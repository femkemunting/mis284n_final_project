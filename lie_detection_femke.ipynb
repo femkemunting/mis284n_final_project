{
 "cells": [
  {
   "cell_type": "code",
   "execution_count": 1,
   "metadata": {},
   "outputs": [
    {
     "ename": "ModuleNotFoundError",
     "evalue": "No module named 'pandas'",
     "output_type": "error",
     "traceback": [
      "\u001b[0;31m---------------------------------------------------------------------------\u001b[0m",
      "\u001b[0;31mModuleNotFoundError\u001b[0m                       Traceback (most recent call last)",
      "Cell \u001b[0;32mIn[1], line 1\u001b[0m\n\u001b[0;32m----> 1\u001b[0m \u001b[38;5;28;01mimport\u001b[39;00m \u001b[38;5;21;01mpandas\u001b[39;00m \u001b[38;5;28;01mas\u001b[39;00m \u001b[38;5;21;01mpd\u001b[39;00m\n\u001b[1;32m      2\u001b[0m \u001b[38;5;28;01mimport\u001b[39;00m \u001b[38;5;21;01mnumpy\u001b[39;00m \u001b[38;5;28;01mas\u001b[39;00m \u001b[38;5;21;01mnp\u001b[39;00m\n\u001b[1;32m      3\u001b[0m \u001b[38;5;28;01mfrom\u001b[39;00m \u001b[38;5;21;01msklearn\u001b[39;00m\u001b[38;5;21;01m.\u001b[39;00m\u001b[38;5;21;01mfeature_extraction\u001b[39;00m\u001b[38;5;21;01m.\u001b[39;00m\u001b[38;5;21;01mtext\u001b[39;00m \u001b[38;5;28;01mimport\u001b[39;00m CountVectorizer\n",
      "\u001b[0;31mModuleNotFoundError\u001b[0m: No module named 'pandas'"
     ]
    }
   ],
   "source": [
    "import pandas as pd\n",
    "import numpy as np\n",
    "from sklearn.feature_extraction.text import CountVectorizer\n",
    "from sklearn.metrics.pairwise import cosine_similarity\n",
    "\n",
    "clips = pd.read_csv('data-files/transcript_data_combined.csv')\n",
    "clips['Transcript'] = clips['Transcript'].fillna('')\n",
    "lies = pd.read_csv('data-files/all_speech_lies.csv')\n",
    "lies[\"Lie Quote\"] = lies[\"Lie Quote\"].fillna('')\n",
    "print(lies.columns)\n",
    "\n",
    "# Initialize the vectorizer\n",
    "vectorizer = CountVectorizer()\n",
    "\n",
    "# Vectorize all the lies first (fit_transform on lies)\n",
    "lie_vector = vectorizer.fit_transform(lies['Lie Quote'])\n",
    "\n",
    "# Initialize an empty list to store the maximum similarity and corresponding lie for each transcript\n",
    "max_similarities = []\n",
    "most_similar_lies = []\n",
    "\n",
    "# Loop through each transcript manually\n",
    "for transcript in clips['Transcript']:\n",
    "    \n",
    "    # Transform the transcript into the same vector space as the lies (use transform on the transcript)\n",
    "    transcript_vector = vectorizer.transform([transcript])\n",
    "    \n",
    "    # Calculate cosine similarities between the current transcript and all lies\n",
    "    similarities = cosine_similarity(transcript_vector, lie_vector)\n",
    "    \n",
    "    # Find the maximum similarity value and the index of the corresponding lie\n",
    "    max_similarity = similarities.max()\n",
    "    max_index = similarities.argmax()\n",
    "    \n",
    "    # Append the max similarity and the corresponding lie to the lists\n",
    "    max_similarities.append(max_similarity)\n",
    "    most_similar_lies.append(lies['Lie Quote'].iloc[max_index])\n",
    "\n",
    "# Add the results to the original DataFrame\n",
    "clips['Max Cosine Similarity'] = max_similarities\n",
    "clips['Most Similar Lie'] = most_similar_lies\n",
    "\n",
    "# Separate the clips based on cosine similarity threshold\n",
    "lies_detected = clips[clips['Max Cosine Similarity'] > 0.8]\n",
    "truths_detected = clips[clips['Max Cosine Similarity'] <= 0.8]\n"
   ]
  }
 ],
 "metadata": {
  "kernelspec": {
   "display_name": "Python 3.9.19 ('base')",
   "language": "python",
   "name": "python3"
  },
  "language_info": {
   "codemirror_mode": {
    "name": "ipython",
    "version": 3
   },
   "file_extension": ".py",
   "mimetype": "text/x-python",
   "name": "python",
   "nbconvert_exporter": "python",
   "pygments_lexer": "ipython3",
   "version": "3.9.19"
  },
  "orig_nbformat": 4,
  "vscode": {
   "interpreter": {
    "hash": "f3c82d000bb8a1750346fb87c49af9771012dc5d265e5e793ee442432926adf7"
   }
  }
 },
 "nbformat": 4,
 "nbformat_minor": 2
}
