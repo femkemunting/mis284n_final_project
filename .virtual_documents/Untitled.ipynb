


import pandas as pd
transcripts = pd.read_csv('data-files/transcript_data_combined.csv')
transcripts


# Kamala Harris speech
mask = transcripts['YouTube URL']=='https://youtu.be/-ofJu78Wpn0?si=H_BZ0KSYr_raPUac'
speech1_transcripts = transcripts.loc[mask]


# read in the lies file

# find max cosine similarity between lie and 30 second clip

# set cutoff for marking clip as lie/truth

# check that the method works
