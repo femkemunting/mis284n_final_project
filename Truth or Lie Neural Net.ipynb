{
 "cells": [
  {
   "cell_type": "code",
   "execution_count": 1,
   "metadata": {},
   "outputs": [],
   "source": [
    "import pandas as pd"
   ]
  },
  {
   "cell_type": "code",
   "execution_count": 9,
   "metadata": {},
   "outputs": [],
   "source": [
    "# Correct the re-filtering by reloading the file and excluding the correct columns only\n",
    "df = pd.read_csv('data-files/transcript_data_w_lies_and_LDAtopics.csv').drop(columns=['Unnamed: 0', 'YouTube URL', 'Chunk Number', 'Video ID', \n",
    "                                                   'Speech ID', 'Speaker', 'Middle Class / American Dream', \n",
    "                                                   'National Security / Immigration', 'Appreciation', \n",
    "                                                   'Lives at Stake', 'Economic Growth / Job Creation'])\n"
   ]
  },
  {
   "cell_type": "code",
   "execution_count": 11,
   "metadata": {},
   "outputs": [],
   "source": [
    "sentiment_df = pd.read_csv('data-files/individual_sentiment_analysis.csv')"
   ]
  },
  {
   "cell_type": "code",
   "execution_count": null,
   "metadata": {},
   "outputs": [],
   "source": [
    "# Identify the max sentiment for each row and assign the respective label ('neg', 'neu', 'pos')\n",
    "sentiment_df['sentiment'] = sentiment_df[['neg', 'neu', 'pos']].idxmax(axis=1)\n",
    "\n",
    "# Select only 'Chunk Filename' and 'sentiment' columns for merging\n",
    "sentiment_column = sentiment_df[['Chunk Filename', 'sentiment']]\n",
    "\n",
    "# Merge this sentiment column with the previously filtered DataFrame on 'Chunk Filename'\n",
    "df_with_sentiment = df.merge(sentiment_column, on='Chunk Filename', how='left')\n",
    "\n",
    "# Move the 'lie' column to the end\n",
    "df_with_sentiment = df_with_sentiment[[col for col in df_with_sentiment.columns if col != 'lie'] + ['lie']]\n"
   ]
  },
  {
   "cell_type": "code",
   "execution_count": 25,
   "metadata": {},
   "outputs": [],
   "source": [
    "combined_file_path = 'data-files/combined.csv'\n",
    "df_with_sentiment.to_csv(combined_file_path, index=False)"
   ]
  }
 ],
 "metadata": {
  "kernelspec": {
   "display_name": "base",
   "language": "python",
   "name": "python3"
  },
  "language_info": {
   "codemirror_mode": {
    "name": "ipython",
    "version": 3
   },
   "file_extension": ".py",
   "mimetype": "text/x-python",
   "name": "python",
   "nbconvert_exporter": "python",
   "pygments_lexer": "ipython3",
   "version": "3.12.2"
  }
 },
 "nbformat": 4,
 "nbformat_minor": 2
}
