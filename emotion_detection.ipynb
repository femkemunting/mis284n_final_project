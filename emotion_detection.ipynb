{
 "cells": [
  {
   "cell_type": "code",
   "execution_count": 315,
   "metadata": {},
   "outputs": [],
   "source": [
    "# SOURCE: https://data-flair.training/blogs/python-mini-project-speech-emotion-recognition/\n",
    "\n",
    "# Libraries\n",
    "\n",
    "import librosa\n",
    "import soundfile\n",
    "import os, glob, pickle\n",
    "import numpy as np\n",
    "import pandas as pd\n",
    "from sklearn.model_selection import train_test_split\n",
    "from sklearn.neural_network import MLPClassifier\n",
    "from sklearn.metrics import accuracy_score\n"
   ]
  },
  {
   "cell_type": "code",
   "execution_count": 358,
   "metadata": {},
   "outputs": [],
   "source": [
    "\n",
    "#DataFlair - Extract features (mfcc, chroma, mel) from a sound file\n",
    "def extract_feature(file_name, mfcc, chroma, mel):\n",
    "    with soundfile.SoundFile(file_name) as sound_file:\n",
    "        X = sound_file.read(dtype=\"float32\")\n",
    "        sample_rate=sound_file.samplerate\n",
    "        if chroma:\n",
    "            stft=np.abs(librosa.stft(X))\n",
    "        result=np.array([])\n",
    "        if mfcc:\n",
    "            mfccs=np.mean(librosa.feature.mfcc(y=X, sr=sample_rate, n_mfcc=40).T, axis=0)\n",
    "            result=np.hstack((result, mfccs))\n",
    "        if chroma:\n",
    "            chroma=np.mean(librosa.feature.chroma_stft(S=stft, sr=sample_rate).T,axis=0)\n",
    "            result=np.hstack((result, chroma))\n",
    "    if mel:\n",
    "        mel_spec = np.mean(librosa.feature.melspectrogram(y=X, sr=sample_rate).T, axis=0)\n",
    "        result = np.hstack((result, mel_spec))\n",
    "\n",
    "    return result\n",
    "\n",
    "\n",
    "#DataFlair - Emotions in the RAVDESS dataset\n",
    "emotions={\n",
    "  '01':'neutral',\n",
    "  '02':'calm',\n",
    "  '03':'happy',\n",
    "  '04':'sad',\n",
    "  '05':'angry',\n",
    "  '06':'fearful',\n",
    "  '07':'disgust',\n",
    "  '08':'surprised'\n",
    "}\n",
    "\n",
    "#DataFlair - Emotions to observe\n",
    "observed_emotions=['calm', 'disgust', 'surprised', 'happy', 'angry']\n",
    "\n",
    "def pad_features(feature, target_length):\n",
    "    if len(feature) < target_length:\n",
    "        return np.pad(feature, (0, target_length - len(feature)), 'constant')\n",
    "    return feature\n",
    "\n",
    "#DataFlair - Load the data and extract features for each sound file\n",
    "\n",
    "def load_data(test_size=0.2):\n",
    "    x,y=[],[]\n",
    "    for file in glob.glob(\"audio-files/ravdess/Actor_*/*.wav\"):\n",
    "        file_name=os.path.basename(file)\n",
    "        emotion=emotions[file_name.split(\"-\")[2]]\n",
    "        if emotion not in observed_emotions:\n",
    "            continue\n",
    "        feature=extract_feature(file, mfcc=True, chroma=True, mel=True)\n",
    "        x.append(feature)\n",
    "        y.append(emotion)\n",
    "    return train_test_split(np.array(x), y, test_size=test_size, random_state=9)"
   ]
  },
  {
   "cell_type": "code",
   "execution_count": 359,
   "metadata": {},
   "outputs": [
    {
     "name": "stdout",
     "output_type": "stream",
     "text": [
      "(496, 124)\n",
      "Features extracted: 180\n",
      "Accuracy: 73.39%\n"
     ]
    },
    {
     "name": "stderr",
     "output_type": "stream",
     "text": [
      "/Users/fmunting/opt/anaconda3/lib/python3.9/site-packages/sklearn/neural_network/_multilayer_perceptron.py:686: ConvergenceWarning: Stochastic Optimizer: Maximum iterations (500) reached and the optimization hasn't converged yet.\n",
      "  warnings.warn(\n"
     ]
    }
   ],
   "source": [
    "#DataFlair - Split the dataset\n",
    "x_train,x_test,y_train,y_test=load_data(test_size=0.20)\n",
    "\n",
    "#DataFlair - Get the shape of the training and testing datasets\n",
    "print((x_train.shape[0], x_test.shape[0]))\n",
    "\n",
    "#DataFlair - Get the number of features extracted\n",
    "print(f'Features extracted: {x_train.shape[1]}')\n",
    "\n",
    "#DataFlair - Initialize the Multi Layer Perceptron Classifier\n",
    "model=MLPClassifier(alpha=0.01, batch_size=256, epsilon=1e-08, hidden_layer_sizes=(300,), learning_rate='adaptive', max_iter=500)\n",
    "\n",
    "#DataFlair - Train the model\n",
    "model.fit(x_train,y_train)\n",
    "\n",
    "#DataFlair - Predict for the test set\n",
    "y_pred=model.predict(x_test)\n",
    "\n",
    "#DataFlair - Calculate the accuracy of our model\n",
    "accuracy=accuracy_score(y_true=y_test, y_pred=y_pred)\n",
    "\n",
    "#DataFlair - Print the accuracy\n",
    "print(\"Accuracy: {:.2f}%\".format(accuracy*100))"
   ]
  },
  {
   "cell_type": "code",
   "execution_count": 360,
   "metadata": {},
   "outputs": [
    {
     "name": "stdout",
     "output_type": "stream",
     "text": [
      "(465, 155)\n",
      "Features extracted: 180\n"
     ]
    },
    {
     "name": "stderr",
     "output_type": "stream",
     "text": [
      "/Users/fmunting/opt/anaconda3/lib/python3.9/site-packages/sklearn/neural_network/_multilayer_perceptron.py:686: ConvergenceWarning: Stochastic Optimizer: Maximum iterations (250) reached and the optimization hasn't converged yet.\n",
      "  warnings.warn(\n"
     ]
    },
    {
     "name": "stdout",
     "output_type": "stream",
     "text": [
      "Alpha: 0.1, Hidden Layer Size: (300,), Max Iter: 250, Accuracy: 66.45%\n"
     ]
    },
    {
     "name": "stderr",
     "output_type": "stream",
     "text": [
      "/Users/fmunting/opt/anaconda3/lib/python3.9/site-packages/sklearn/neural_network/_multilayer_perceptron.py:686: ConvergenceWarning: Stochastic Optimizer: Maximum iterations (500) reached and the optimization hasn't converged yet.\n",
      "  warnings.warn(\n"
     ]
    },
    {
     "name": "stdout",
     "output_type": "stream",
     "text": [
      "Alpha: 0.1, Hidden Layer Size: (300,), Max Iter: 500, Accuracy: 74.19%\n",
      "Alpha: 0.1, Hidden Layer Size: (300,), Max Iter: 1000, Accuracy: 71.61%\n",
      "Alpha: 0.1, Hidden Layer Size: (300,), Max Iter: 1500, Accuracy: 70.32%\n"
     ]
    },
    {
     "name": "stderr",
     "output_type": "stream",
     "text": [
      "/Users/fmunting/opt/anaconda3/lib/python3.9/site-packages/sklearn/neural_network/_multilayer_perceptron.py:686: ConvergenceWarning: Stochastic Optimizer: Maximum iterations (250) reached and the optimization hasn't converged yet.\n",
      "  warnings.warn(\n"
     ]
    },
    {
     "name": "stdout",
     "output_type": "stream",
     "text": [
      "Alpha: 0.1, Hidden Layer Size: (300, 100), Max Iter: 250, Accuracy: 68.39%\n"
     ]
    },
    {
     "name": "stderr",
     "output_type": "stream",
     "text": [
      "/Users/fmunting/opt/anaconda3/lib/python3.9/site-packages/sklearn/neural_network/_multilayer_perceptron.py:686: ConvergenceWarning: Stochastic Optimizer: Maximum iterations (500) reached and the optimization hasn't converged yet.\n",
      "  warnings.warn(\n"
     ]
    },
    {
     "name": "stdout",
     "output_type": "stream",
     "text": [
      "Alpha: 0.1, Hidden Layer Size: (300, 100), Max Iter: 500, Accuracy: 70.97%\n",
      "Alpha: 0.1, Hidden Layer Size: (300, 100), Max Iter: 1000, Accuracy: 60.65%\n",
      "Alpha: 0.1, Hidden Layer Size: (300, 100), Max Iter: 1500, Accuracy: 73.55%\n",
      "Alpha: 0.1, Hidden Layer Size: (300, 300), Max Iter: 250, Accuracy: 53.55%\n",
      "Alpha: 0.1, Hidden Layer Size: (300, 300), Max Iter: 500, Accuracy: 52.26%\n",
      "Alpha: 0.1, Hidden Layer Size: (300, 300), Max Iter: 1000, Accuracy: 43.23%\n",
      "Alpha: 0.1, Hidden Layer Size: (300, 300), Max Iter: 1500, Accuracy: 66.45%\n"
     ]
    },
    {
     "name": "stderr",
     "output_type": "stream",
     "text": [
      "/Users/fmunting/opt/anaconda3/lib/python3.9/site-packages/sklearn/neural_network/_multilayer_perceptron.py:686: ConvergenceWarning: Stochastic Optimizer: Maximum iterations (250) reached and the optimization hasn't converged yet.\n",
      "  warnings.warn(\n"
     ]
    },
    {
     "name": "stdout",
     "output_type": "stream",
     "text": [
      "Alpha: 0.05, Hidden Layer Size: (300,), Max Iter: 250, Accuracy: 67.74%\n"
     ]
    },
    {
     "name": "stderr",
     "output_type": "stream",
     "text": [
      "/Users/fmunting/opt/anaconda3/lib/python3.9/site-packages/sklearn/neural_network/_multilayer_perceptron.py:686: ConvergenceWarning: Stochastic Optimizer: Maximum iterations (500) reached and the optimization hasn't converged yet.\n",
      "  warnings.warn(\n"
     ]
    },
    {
     "name": "stdout",
     "output_type": "stream",
     "text": [
      "Alpha: 0.05, Hidden Layer Size: (300,), Max Iter: 500, Accuracy: 70.32%\n",
      "Alpha: 0.05, Hidden Layer Size: (300,), Max Iter: 1000, Accuracy: 70.32%\n",
      "Alpha: 0.05, Hidden Layer Size: (300,), Max Iter: 1500, Accuracy: 72.26%\n"
     ]
    },
    {
     "name": "stderr",
     "output_type": "stream",
     "text": [
      "/Users/fmunting/opt/anaconda3/lib/python3.9/site-packages/sklearn/neural_network/_multilayer_perceptron.py:686: ConvergenceWarning: Stochastic Optimizer: Maximum iterations (250) reached and the optimization hasn't converged yet.\n",
      "  warnings.warn(\n"
     ]
    },
    {
     "name": "stdout",
     "output_type": "stream",
     "text": [
      "Alpha: 0.05, Hidden Layer Size: (300, 100), Max Iter: 250, Accuracy: 70.32%\n",
      "Alpha: 0.05, Hidden Layer Size: (300, 100), Max Iter: 500, Accuracy: 69.68%\n",
      "Alpha: 0.05, Hidden Layer Size: (300, 100), Max Iter: 1000, Accuracy: 69.68%\n",
      "Alpha: 0.05, Hidden Layer Size: (300, 100), Max Iter: 1500, Accuracy: 67.74%\n"
     ]
    },
    {
     "name": "stderr",
     "output_type": "stream",
     "text": [
      "/Users/fmunting/opt/anaconda3/lib/python3.9/site-packages/sklearn/neural_network/_multilayer_perceptron.py:686: ConvergenceWarning: Stochastic Optimizer: Maximum iterations (250) reached and the optimization hasn't converged yet.\n",
      "  warnings.warn(\n"
     ]
    },
    {
     "name": "stdout",
     "output_type": "stream",
     "text": [
      "Alpha: 0.05, Hidden Layer Size: (300, 300), Max Iter: 250, Accuracy: 70.97%\n",
      "Alpha: 0.05, Hidden Layer Size: (300, 300), Max Iter: 500, Accuracy: 49.68%\n",
      "Alpha: 0.05, Hidden Layer Size: (300, 300), Max Iter: 1000, Accuracy: 54.84%\n",
      "Alpha: 0.05, Hidden Layer Size: (300, 300), Max Iter: 1500, Accuracy: 60.65%\n"
     ]
    },
    {
     "name": "stderr",
     "output_type": "stream",
     "text": [
      "/Users/fmunting/opt/anaconda3/lib/python3.9/site-packages/sklearn/neural_network/_multilayer_perceptron.py:686: ConvergenceWarning: Stochastic Optimizer: Maximum iterations (250) reached and the optimization hasn't converged yet.\n",
      "  warnings.warn(\n"
     ]
    },
    {
     "name": "stdout",
     "output_type": "stream",
     "text": [
      "Alpha: 0.01, Hidden Layer Size: (300,), Max Iter: 250, Accuracy: 69.68%\n"
     ]
    },
    {
     "name": "stderr",
     "output_type": "stream",
     "text": [
      "/Users/fmunting/opt/anaconda3/lib/python3.9/site-packages/sklearn/neural_network/_multilayer_perceptron.py:686: ConvergenceWarning: Stochastic Optimizer: Maximum iterations (500) reached and the optimization hasn't converged yet.\n",
      "  warnings.warn(\n"
     ]
    },
    {
     "name": "stdout",
     "output_type": "stream",
     "text": [
      "Alpha: 0.01, Hidden Layer Size: (300,), Max Iter: 500, Accuracy: 72.26%\n",
      "Alpha: 0.01, Hidden Layer Size: (300,), Max Iter: 1000, Accuracy: 70.32%\n",
      "Alpha: 0.01, Hidden Layer Size: (300,), Max Iter: 1500, Accuracy: 63.87%\n",
      "Alpha: 0.01, Hidden Layer Size: (300, 100), Max Iter: 250, Accuracy: 61.94%\n",
      "Alpha: 0.01, Hidden Layer Size: (300, 100), Max Iter: 500, Accuracy: 64.52%\n",
      "Alpha: 0.01, Hidden Layer Size: (300, 100), Max Iter: 1000, Accuracy: 67.74%\n",
      "Alpha: 0.01, Hidden Layer Size: (300, 100), Max Iter: 1500, Accuracy: 60.00%\n",
      "Alpha: 0.01, Hidden Layer Size: (300, 300), Max Iter: 250, Accuracy: 51.61%\n",
      "Alpha: 0.01, Hidden Layer Size: (300, 300), Max Iter: 500, Accuracy: 67.74%\n",
      "Alpha: 0.01, Hidden Layer Size: (300, 300), Max Iter: 1000, Accuracy: 42.58%\n",
      "Alpha: 0.01, Hidden Layer Size: (300, 300), Max Iter: 1500, Accuracy: 65.16%\n"
     ]
    },
    {
     "name": "stderr",
     "output_type": "stream",
     "text": [
      "/Users/fmunting/opt/anaconda3/lib/python3.9/site-packages/sklearn/neural_network/_multilayer_perceptron.py:686: ConvergenceWarning: Stochastic Optimizer: Maximum iterations (250) reached and the optimization hasn't converged yet.\n",
      "  warnings.warn(\n"
     ]
    },
    {
     "name": "stdout",
     "output_type": "stream",
     "text": [
      "Alpha: 0.001, Hidden Layer Size: (300,), Max Iter: 250, Accuracy: 72.26%\n"
     ]
    },
    {
     "name": "stderr",
     "output_type": "stream",
     "text": [
      "/Users/fmunting/opt/anaconda3/lib/python3.9/site-packages/sklearn/neural_network/_multilayer_perceptron.py:686: ConvergenceWarning: Stochastic Optimizer: Maximum iterations (500) reached and the optimization hasn't converged yet.\n",
      "  warnings.warn(\n"
     ]
    },
    {
     "name": "stdout",
     "output_type": "stream",
     "text": [
      "Alpha: 0.001, Hidden Layer Size: (300,), Max Iter: 500, Accuracy: 73.55%\n",
      "Alpha: 0.001, Hidden Layer Size: (300,), Max Iter: 1000, Accuracy: 68.39%\n",
      "Alpha: 0.001, Hidden Layer Size: (300,), Max Iter: 1500, Accuracy: 68.39%\n",
      "Alpha: 0.001, Hidden Layer Size: (300, 100), Max Iter: 250, Accuracy: 56.77%\n",
      "Alpha: 0.001, Hidden Layer Size: (300, 100), Max Iter: 500, Accuracy: 71.61%\n",
      "Alpha: 0.001, Hidden Layer Size: (300, 100), Max Iter: 1000, Accuracy: 73.55%\n",
      "Alpha: 0.001, Hidden Layer Size: (300, 100), Max Iter: 1500, Accuracy: 68.39%\n",
      "Alpha: 0.001, Hidden Layer Size: (300, 300), Max Iter: 250, Accuracy: 57.42%\n",
      "Alpha: 0.001, Hidden Layer Size: (300, 300), Max Iter: 500, Accuracy: 69.68%\n",
      "Alpha: 0.001, Hidden Layer Size: (300, 300), Max Iter: 1000, Accuracy: 56.13%\n",
      "Alpha: 0.001, Hidden Layer Size: (300, 300), Max Iter: 1500, Accuracy: 58.71%\n"
     ]
    }
   ],
   "source": [
    "'''#DataFlair - Split the dataset\n",
    "x_train,x_test,y_train,y_test=load_data(test_size=0.25)\n",
    "\n",
    "#DataFlair - Get the shape of the training and testing datasets\n",
    "print((x_train.shape[0], x_test.shape[0]))\n",
    "\n",
    "#DataFlair - Get the number of features extracted\n",
    "print(f'Features extracted: {x_train.shape[1]}')\n",
    "\n",
    "alphas = [0.1, 0.05, 0.01, 0.001]\n",
    "hidden_layer_size = [(300,), (300, 100), (300, 300)]\n",
    "max_iter = [250, 500, 1000, 1500]\n",
    "\n",
    "\n",
    "for i in alphas:\n",
    "    for j in hidden_layer_size:\n",
    "        for iter in max_iter:\n",
    "#DataFlair - Initialize the Multi Layer Perceptron Classifier\n",
    "            model=MLPClassifier(alpha=i, batch_size=256, epsilon=1e-08, hidden_layer_sizes=j, learning_rate='adaptive', max_iter=iter)\n",
    "\n",
    "#DataFlair - Train the model\n",
    "            model.fit(x_train,y_train)\n",
    "\n",
    "#DataFlair - Predict for the test set\n",
    "            y_pred=model.predict(x_test)\n",
    "\n",
    "#DataFlair - Calculate the accuracy of our model\n",
    "            accuracy=accuracy_score(y_true=y_test, y_pred=y_pred)\n",
    "\n",
    "#DataFlair - Print the accuracy\n",
    "            print(f\"Alpha: {i}, Hidden Layer Size: {j}, Max Iter: {iter}, Accuracy: {accuracy*100:.2f}%\")\n",
    "\n",
    "'''"
   ]
  },
  {
   "cell_type": "code",
   "execution_count": 361,
   "metadata": {},
   "outputs": [
    {
     "name": "stderr",
     "output_type": "stream",
     "text": [
      "/Users/fmunting/opt/anaconda3/lib/python3.9/site-packages/librosa/core/pitch.py:101: UserWarning: Trying to estimate tuning from empty frequency set.\n",
      "  return pitch_tuning(\n"
     ]
    }
   ],
   "source": [
    "speech_list = []\n",
    "speech_names = []\n",
    "\n",
    "for file in glob.glob(\"audio-files/*.wav\"):\n",
    "    file_name=os.path.basename(file)\n",
    "    speech_names.append(file_name)\n",
    "    feature=extract_feature(file, mfcc=True, chroma=True, mel=True)\n",
    "    speech_list.append(feature)"
   ]
  },
  {
   "cell_type": "code",
   "execution_count": 365,
   "metadata": {},
   "outputs": [
    {
     "data": {
      "text/plain": [
       "array(['angry', 'angry', 'angry', 'angry', 'angry', 'happy', 'happy',\n",
       "       'angry', 'surprised', 'angry', 'angry', 'surprised', 'disgust',\n",
       "       'calm', 'happy', 'happy', 'disgust', 'happy', 'disgust', 'happy',\n",
       "       'happy', 'happy', 'calm', 'angry', 'happy', 'surprised',\n",
       "       'surprised', 'angry', 'angry', 'disgust', 'surprised', 'angry',\n",
       "       'angry', 'angry', 'angry', 'angry', 'angry', 'angry', 'angry',\n",
       "       'angry', 'happy', 'happy', 'angry', 'angry', 'surprised', 'happy',\n",
       "       'disgust', 'angry', 'happy', 'happy', 'happy', 'calm', 'happy',\n",
       "       'happy', 'surprised', 'disgust', 'happy', 'angry', 'surprised',\n",
       "       'disgust', 'happy', 'angry', 'angry', 'angry', 'angry', 'angry',\n",
       "       'angry', 'angry', 'angry', 'angry', 'angry', 'surprised', 'happy',\n",
       "       'surprised', 'surprised', 'happy', 'angry', 'happy', 'happy',\n",
       "       'happy', 'happy', 'happy', 'happy', 'surprised', 'happy',\n",
       "       'surprised', 'angry', 'angry', 'disgust', 'angry', 'angry',\n",
       "       'angry', 'angry', 'angry', 'angry', 'angry', 'angry', 'angry',\n",
       "       'angry', 'angry', 'surprised', 'happy', 'happy', 'angry', 'angry',\n",
       "       'disgust', 'surprised', 'surprised', 'disgust', 'calm', 'happy',\n",
       "       'happy', 'happy', 'disgust', 'happy', 'happy', 'surprised',\n",
       "       'happy', 'angry', 'angry', 'angry', 'surprised', 'angry', 'angry',\n",
       "       'surprised', 'angry', 'angry', 'angry', 'angry', 'angry', 'angry',\n",
       "       'angry', 'angry', 'happy', 'angry', 'happy', 'angry', 'angry',\n",
       "       'surprised', 'angry', 'happy', 'happy', 'happy', 'happy', 'happy',\n",
       "       'happy', 'happy', 'happy', 'happy', 'happy', 'happy', 'happy',\n",
       "       'angry', 'angry', 'angry', 'happy', 'calm', 'disgust', 'angry',\n",
       "       'angry', 'angry', 'angry', 'angry', 'angry', 'disgust',\n",
       "       'surprised', 'angry', 'angry', 'surprised', 'happy', 'disgust',\n",
       "       'angry', 'disgust', 'surprised', 'happy', 'happy', 'disgust',\n",
       "       'disgust', 'happy', 'happy', 'disgust', 'disgust', 'disgust',\n",
       "       'surprised', 'angry', 'angry', 'surprised', 'happy', 'surprised',\n",
       "       'angry', 'angry', 'angry', 'angry', 'angry', 'surprised', 'angry',\n",
       "       'angry', 'angry', 'happy', 'surprised', 'angry', 'angry',\n",
       "       'surprised', 'disgust', 'disgust', 'angry', 'happy', 'disgust',\n",
       "       'disgust', 'disgust', 'happy', 'happy', 'happy', 'happy', 'happy',\n",
       "       'happy', 'disgust', 'happy', 'angry', 'angry', 'angry', 'happy',\n",
       "       'surprised', 'surprised', 'angry', 'angry', 'angry', 'surprised',\n",
       "       'surprised', 'angry', 'surprised', 'disgust', 'angry', 'surprised',\n",
       "       'disgust', 'angry', 'angry', 'calm', 'surprised', 'happy', 'happy',\n",
       "       'happy', 'calm', 'disgust', 'happy', 'happy', 'happy', 'happy',\n",
       "       'disgust', 'angry', 'disgust', 'angry', 'angry', 'angry', 'angry',\n",
       "       'angry', 'angry', 'angry', 'angry', 'angry', 'disgust', 'disgust',\n",
       "       'disgust', 'happy', 'angry', 'angry', 'calm', 'happy', 'disgust',\n",
       "       'happy', 'calm', 'happy', 'happy', 'happy', 'angry', 'happy',\n",
       "       'disgust', 'angry', 'surprised', 'angry', 'surprised', 'angry',\n",
       "       'angry', 'disgust', 'angry', 'angry', 'angry', 'angry',\n",
       "       'surprised', 'angry', 'angry', 'happy', 'calm', 'angry', 'angry',\n",
       "       'happy', 'happy', 'surprised', 'angry', 'disgust', 'happy', 'calm',\n",
       "       'happy', 'happy', 'surprised', 'angry', 'surprised', 'happy',\n",
       "       'angry', 'angry', 'angry', 'calm', 'angry', 'surprised', 'angry',\n",
       "       'angry', 'angry', 'angry', 'angry', 'happy', 'angry', 'angry',\n",
       "       'angry', 'disgust', 'happy', 'disgust', 'surprised', 'angry',\n",
       "       'happy', 'calm', 'happy', 'disgust', 'happy', 'disgust', 'angry',\n",
       "       'happy', 'calm', 'happy', 'angry', 'surprised', 'happy', 'angry',\n",
       "       'disgust', 'angry', 'disgust', 'disgust', 'surprised', 'angry',\n",
       "       'angry', 'angry', 'angry', 'angry', 'angry', 'happy', 'angry',\n",
       "       'angry', 'surprised', 'angry', 'angry', 'angry', 'happy', 'happy',\n",
       "       'disgust', 'happy', 'happy', 'disgust', 'happy', 'happy',\n",
       "       'disgust', 'angry', 'disgust', 'surprised', 'happy', 'disgust',\n",
       "       'angry', 'angry', 'angry', 'angry', 'angry', 'angry', 'happy',\n",
       "       'surprised', 'angry', 'surprised', 'disgust', 'angry', 'angry',\n",
       "       'disgust', 'happy', 'surprised', 'disgust', 'happy', 'happy',\n",
       "       'happy', 'happy', 'happy', 'surprised', 'disgust', 'calm', 'angry',\n",
       "       'surprised', 'disgust', 'disgust', 'surprised', 'angry', 'angry',\n",
       "       'surprised', 'happy', 'angry', 'angry', 'angry', 'angry', 'angry',\n",
       "       'angry', 'disgust', 'happy', 'angry', 'angry', 'happy', 'calm',\n",
       "       'happy', 'angry', 'disgust', 'happy', 'happy', 'happy', 'happy',\n",
       "       'happy', 'disgust', 'happy', 'angry', 'angry', 'happy', 'happy',\n",
       "       'happy', 'angry', 'angry', 'angry', 'angry', 'angry', 'angry',\n",
       "       'angry', 'angry', 'happy', 'surprised', 'surprised', 'disgust',\n",
       "       'angry', 'calm', 'happy', 'disgust', 'happy', 'happy', 'happy',\n",
       "       'disgust', 'happy', 'happy', 'angry', 'surprised', 'happy',\n",
       "       'disgust', 'surprised', 'angry', 'angry', 'surprised', 'happy',\n",
       "       'angry', 'angry', 'angry', 'angry', 'angry', 'angry', 'angry',\n",
       "       'surprised', 'angry', 'happy', 'surprised', 'angry', 'angry',\n",
       "       'surprised', 'happy', 'calm', 'happy', 'disgust', 'happy', 'happy',\n",
       "       'happy', 'happy', 'happy', 'happy', 'calm', 'happy', 'angry',\n",
       "       'surprised', 'happy', 'angry', 'angry', 'angry', 'surprised',\n",
       "       'angry', 'angry', 'angry'], dtype='<U9')"
      ]
     },
     "execution_count": 365,
     "metadata": {},
     "output_type": "execute_result"
    }
   ],
   "source": [
    "model.predict(speech_list)"
   ]
  },
  {
   "cell_type": "code",
   "execution_count": 366,
   "metadata": {},
   "outputs": [],
   "source": [
    "\n",
    "def final_load_data():\n",
    "    x,y=[],[]\n",
    "    for file in glob.glob(\"audio-files/ravdess/Actor_*/*.wav\"):\n",
    "        file_name=os.path.basename(file)\n",
    "        emotion=emotions[file_name.split(\"-\")[2]]\n",
    "        if emotion not in observed_emotions:\n",
    "            continue\n",
    "        feature=extract_feature(file, mfcc=True, chroma=True, mel=True)\n",
    "        x.append(feature)\n",
    "        y.append(emotion)\n",
    "    return x, y\n"
   ]
  },
  {
   "cell_type": "code",
   "execution_count": 368,
   "metadata": {},
   "outputs": [
    {
     "ename": "NotFittedError",
     "evalue": "This MLPClassifier instance is not fitted yet. Call 'fit' with appropriate arguments before using this estimator.",
     "output_type": "error",
     "traceback": [
      "\u001b[0;31m---------------------------------------------------------------------------\u001b[0m",
      "\u001b[0;31mNotFittedError\u001b[0m                            Traceback (most recent call last)",
      "Cell \u001b[0;32mIn[368], line 10\u001b[0m\n\u001b[1;32m      7\u001b[0m \u001b[38;5;66;03m#DataFlair - Train the model\u001b[39;00m\n\u001b[1;32m      8\u001b[0m model\u001b[38;5;241m.\u001b[39mfit(x,y)\n\u001b[0;32m---> 10\u001b[0m speech_predictions \u001b[38;5;241m=\u001b[39m \u001b[43mfinal_model\u001b[49m\u001b[38;5;241;43m.\u001b[39;49m\u001b[43mpredict\u001b[49m\u001b[43m(\u001b[49m\u001b[43mspeech_list\u001b[49m\u001b[43m)\u001b[49m\n",
      "File \u001b[0;32m~/opt/anaconda3/lib/python3.9/site-packages/sklearn/neural_network/_multilayer_perceptron.py:1155\u001b[0m, in \u001b[0;36mMLPClassifier.predict\u001b[0;34m(self, X)\u001b[0m\n\u001b[1;32m   1142\u001b[0m \u001b[39mdef\u001b[39;00m \u001b[39mpredict\u001b[39m(\u001b[39mself\u001b[39m, X):\n\u001b[1;32m   1143\u001b[0m \u001b[39m    \u001b[39m\u001b[39m\"\"\"Predict using the multi-layer perceptron classifier.\u001b[39;00m\n\u001b[1;32m   1144\u001b[0m \n\u001b[1;32m   1145\u001b[0m \u001b[39m    Parameters\u001b[39;00m\n\u001b[0;32m   (...)\u001b[0m\n\u001b[1;32m   1153\u001b[0m \u001b[39m        The predicted classes.\u001b[39;00m\n\u001b[1;32m   1154\u001b[0m \u001b[39m    \"\"\"\u001b[39;00m\n\u001b[0;32m-> 1155\u001b[0m     check_is_fitted(\u001b[39mself\u001b[39;49m)\n\u001b[1;32m   1156\u001b[0m     \u001b[39mreturn\u001b[39;00m \u001b[39mself\u001b[39m\u001b[39m.\u001b[39m_predict(X)\n",
      "File \u001b[0;32m~/opt/anaconda3/lib/python3.9/site-packages/sklearn/utils/validation.py:1390\u001b[0m, in \u001b[0;36mcheck_is_fitted\u001b[0;34m(estimator, attributes, msg, all_or_any)\u001b[0m\n\u001b[1;32m   1385\u001b[0m     fitted \u001b[39m=\u001b[39m [\n\u001b[1;32m   1386\u001b[0m         v \u001b[39mfor\u001b[39;00m v \u001b[39min\u001b[39;00m \u001b[39mvars\u001b[39m(estimator) \u001b[39mif\u001b[39;00m v\u001b[39m.\u001b[39mendswith(\u001b[39m\"\u001b[39m\u001b[39m_\u001b[39m\u001b[39m\"\u001b[39m) \u001b[39mand\u001b[39;00m \u001b[39mnot\u001b[39;00m v\u001b[39m.\u001b[39mstartswith(\u001b[39m\"\u001b[39m\u001b[39m__\u001b[39m\u001b[39m\"\u001b[39m)\n\u001b[1;32m   1387\u001b[0m     ]\n\u001b[1;32m   1389\u001b[0m \u001b[39mif\u001b[39;00m \u001b[39mnot\u001b[39;00m fitted:\n\u001b[0;32m-> 1390\u001b[0m     \u001b[39mraise\u001b[39;00m NotFittedError(msg \u001b[39m%\u001b[39m {\u001b[39m\"\u001b[39m\u001b[39mname\u001b[39m\u001b[39m\"\u001b[39m: \u001b[39mtype\u001b[39m(estimator)\u001b[39m.\u001b[39m\u001b[39m__name__\u001b[39m})\n",
      "\u001b[0;31mNotFittedError\u001b[0m: This MLPClassifier instance is not fitted yet. Call 'fit' with appropriate arguments before using this estimator."
     ]
    }
   ],
   "source": [
    "#DataFlair - Split the dataset\n",
    "x, y =final_load_data()\n",
    "\n",
    "#DataFlair - Initialize the Multi Layer Perceptron Classifier\n",
    "final_model=MLPClassifier(alpha=0.01, batch_size=256, epsilon=1e-08, hidden_layer_sizes=(300,100), learning_rate='adaptive', max_iter=1500)\n",
    "\n",
    "#DataFlair - Train the model\n",
    "model.fit(x,y)\n",
    "\n",
    "speech_predictions = final_model.predict(speech_list)"
   ]
  },
  {
   "cell_type": "code",
   "execution_count": null,
   "metadata": {},
   "outputs": [
    {
     "data": {
      "text/plain": [
       "502"
      ]
     },
     "execution_count": 344,
     "metadata": {},
     "output_type": "execute_result"
    }
   ],
   "source": [
    "len(speech_predictions)"
   ]
  },
  {
   "cell_type": "code",
   "execution_count": null,
   "metadata": {},
   "outputs": [],
   "source": [
    "df = pd.read_csv(\"data-files/transcripts_w_lies.csv\")"
   ]
  },
  {
   "cell_type": "code",
   "execution_count": null,
   "metadata": {},
   "outputs": [],
   "source": [
    "pred_df = pd.DataFrame({\"names\": speech_names, \"emotion\": speech_predictions})"
   ]
  },
  {
   "cell_type": "code",
   "execution_count": null,
   "metadata": {},
   "outputs": [
    {
     "data": {
      "text/html": [
       "<div>\n",
       "<style scoped>\n",
       "    .dataframe tbody tr th:only-of-type {\n",
       "        vertical-align: middle;\n",
       "    }\n",
       "\n",
       "    .dataframe tbody tr th {\n",
       "        vertical-align: top;\n",
       "    }\n",
       "\n",
       "    .dataframe thead th {\n",
       "        text-align: right;\n",
       "    }\n",
       "</style>\n",
       "<table border=\"1\" class=\"dataframe\">\n",
       "  <thead>\n",
       "    <tr style=\"text-align: right;\">\n",
       "      <th></th>\n",
       "      <th>names</th>\n",
       "      <th>emotion</th>\n",
       "    </tr>\n",
       "  </thead>\n",
       "  <tbody>\n",
       "    <tr>\n",
       "      <th>0</th>\n",
       "      <td>Donald Trump speaks at the RNC： FULL SPEECH_ch...</td>\n",
       "      <td>angry</td>\n",
       "    </tr>\n",
       "    <tr>\n",
       "      <th>1</th>\n",
       "      <td>Donald Trump speaks at the RNC： FULL SPEECH_ch...</td>\n",
       "      <td>angry</td>\n",
       "    </tr>\n",
       "    <tr>\n",
       "      <th>2</th>\n",
       "      <td>Donald Trump speaks at the RNC： FULL SPEECH_ch...</td>\n",
       "      <td>angry</td>\n",
       "    </tr>\n",
       "    <tr>\n",
       "      <th>3</th>\n",
       "      <td>Donald Trump speaks at the RNC： FULL SPEECH_ch...</td>\n",
       "      <td>angry</td>\n",
       "    </tr>\n",
       "    <tr>\n",
       "      <th>4</th>\n",
       "      <td>Donald Trump speaks at the RNC： FULL SPEECH_ch...</td>\n",
       "      <td>angry</td>\n",
       "    </tr>\n",
       "  </tbody>\n",
       "</table>\n",
       "</div>"
      ],
      "text/plain": [
       "                                               names emotion\n",
       "0  Donald Trump speaks at the RNC： FULL SPEECH_ch...   angry\n",
       "1  Donald Trump speaks at the RNC： FULL SPEECH_ch...   angry\n",
       "2  Donald Trump speaks at the RNC： FULL SPEECH_ch...   angry\n",
       "3  Donald Trump speaks at the RNC： FULL SPEECH_ch...   angry\n",
       "4  Donald Trump speaks at the RNC： FULL SPEECH_ch...   angry"
      ]
     },
     "execution_count": 347,
     "metadata": {},
     "output_type": "execute_result"
    }
   ],
   "source": [
    "pred_df.head()"
   ]
  },
  {
   "cell_type": "code",
   "execution_count": null,
   "metadata": {},
   "outputs": [],
   "source": [
    "df[\"names\"] = df[\"Chunk Filename\"].str.replace(\"/Users/milanvaghani/Desktop/Unstructed Machine Learning/\", \"\")"
   ]
  },
  {
   "cell_type": "code",
   "execution_count": null,
   "metadata": {},
   "outputs": [],
   "source": [
    "df_ordered = df.sort_values(by = \"names\")\n",
    "pred_df_ordered = pred_df.sort_values(by = \"names\")\n",
    "emotion_ordered = pred_df_ordered[\"emotion\"]\n",
    "df_ordered[\"emotion\"] = emotion_ordered"
   ]
  },
  {
   "cell_type": "code",
   "execution_count": null,
   "metadata": {},
   "outputs": [],
   "source": [
    "final_df = df_ordered.drop(columns = [\"Unnamed: 0\", \"YouTube URL\", \"Chunk Filename\"])"
   ]
  },
  {
   "cell_type": "code",
   "execution_count": null,
   "metadata": {},
   "outputs": [],
   "source": [
    "speech_number = []\n",
    "\n",
    "for line in final_df[\"names\"]:\n",
    "    if line.startswith(\"Audio Files/Donald Trump speaks\"):\n",
    "        speech_number.append(3)\n",
    "    elif line.startswith(\"VP Kamala Harris full speech\"):\n",
    "        speech_number.append(1)\n",
    "    elif line.startswith(\"Audio Files/Donald Trump full\"):\n",
    "        speech_number.append(2)\n",
    "    else:\n",
    "        speech_number.append(4)\n",
    "\n",
    "final_df[\"speech_number\"] = speech_number"
   ]
  },
  {
   "cell_type": "code",
   "execution_count": null,
   "metadata": {},
   "outputs": [
    {
     "data": {
      "text/plain": [
       "<Axes: xlabel='count', ylabel='Count'>"
      ]
     },
     "execution_count": 352,
     "metadata": {},
     "output_type": "execute_result"
    },
    {
     "data": {
      "image/png": "[encoded data removed]",
      "text/plain": [
       "<Figure size 640x480 with 1 Axes>"
      ]
     },
     "metadata": {},
     "output_type": "display_data"
    }
   ],
   "source": [
    "import seaborn as sns\n",
    "\n",
    "sns.histplot(final_df.groupby([\"speech_number\", \"lie\"])[\"emotion\"].value_counts())"
   ]
  },
  {
   "cell_type": "code",
   "execution_count": null,
   "metadata": {},
   "outputs": [
    {
     "name": "stderr",
     "output_type": "stream",
     "text": [
      "/var/folders/gs/rvxrkqns1ws3722g5ty7jpqw0000gn/T/ipykernel_15042/4008278264.py:12: FutureWarning: \n",
      "\n",
      "The `ci` parameter is deprecated. Use `errorbar=None` for the same effect.\n",
      "\n",
      "  g = sns.catplot(\n"
     ]
    },
    {
     "data": {
      "image/png": "[encoded data removed]",
      "text/plain": [
       "<Figure size 2004.87x400 with 4 Axes>"
      ]
     },
     "metadata": {},
     "output_type": "display_data"
    }
   ],
   "source": [
    "import pandas as pd\n",
    "import seaborn as sns\n",
    "import matplotlib.pyplot as plt\n",
    "\n",
    "# Step 1: Calculate the percentage of emotions within each speech and lie/truth\n",
    "emotion_counts = final_df.groupby([\"speech_number\", \"lie\", \"emotion\"]).size().reset_index(name=\"counts\")\n",
    "\n",
    "# Step 2: Calculate the percentage of each emotion within each speech and lie/truth\n",
    "emotion_counts[\"percentage\"] = emotion_counts.groupby([\"speech_number\", \"lie\"])[\"counts\"].transform(lambda x: 100 * x / x.sum())\n",
    "\n",
    "# Step 3: Plot using FacetGrid to split by speech_number\n",
    "g = sns.catplot(\n",
    "    data=emotion_counts,\n",
    "    x=\"emotion\", y=\"percentage\", hue=\"lie\", col=\"speech_number\",\n",
    "    kind=\"bar\", ci=None, height=4, aspect=1.2\n",
    ")\n",
    "\n",
    "# Manually set titles for each subplot\n",
    "custom_titles = [\"Harris DNC\", \"Trump RNC\", \"Harris Rally\", \"Trump Rally\"]\n",
    "for ax, title in zip(g.axes.flat, custom_titles):\n",
    "    ax.set_title(title)\n",
    "g.set_axis_labels(\"Emotion\", \"Percentage\")\n",
    "g.set_xticklabels(rotation=45)\n",
    "plt.tight_layout()\n",
    "plt.show()\n"
   ]
  },
  {
   "cell_type": "code",
   "execution_count": null,
   "metadata": {},
   "outputs": [
    {
     "data": {
      "text/html": [
       "<div>\n",
       "<style scoped>\n",
       "    .dataframe tbody tr th:only-of-type {\n",
       "        vertical-align: middle;\n",
       "    }\n",
       "\n",
       "    .dataframe tbody tr th {\n",
       "        vertical-align: top;\n",
       "    }\n",
       "\n",
       "    .dataframe thead th {\n",
       "        text-align: right;\n",
       "    }\n",
       "</style>\n",
       "<table border=\"1\" class=\"dataframe\">\n",
       "  <thead>\n",
       "    <tr style=\"text-align: right;\">\n",
       "      <th></th>\n",
       "      <th>Unnamed: 0</th>\n",
       "      <th>YouTube URL</th>\n",
       "      <th>Chunk Number</th>\n",
       "      <th>Chunk Filename</th>\n",
       "      <th>Transcript</th>\n",
       "      <th>lie</th>\n",
       "      <th>names</th>\n",
       "    </tr>\n",
       "  </thead>\n",
       "  <tbody>\n",
       "    <tr>\n",
       "      <th>0</th>\n",
       "      <td>0</td>\n",
       "      <td>https://youtu.be/-ofJu78Wpn0?si=H_BZ0KSYr_raPUac</td>\n",
       "      <td>1</td>\n",
       "      <td>/Users/milanvaghani/Desktop/Unstructed Machine...</td>\n",
       "      <td>NaN</td>\n",
       "      <td>False</td>\n",
       "      <td>VP Kamala Harris full speech at 2024 DNC (Aug....</td>\n",
       "    </tr>\n",
       "    <tr>\n",
       "      <th>1</th>\n",
       "      <td>1</td>\n",
       "      <td>https://youtu.be/-ofJu78Wpn0?si=H_BZ0KSYr_raPUac</td>\n",
       "      <td>2</td>\n",
       "      <td>/Users/milanvaghani/Desktop/Unstructed Machine...</td>\n",
       "      <td>good evening everyone. Good evening  good even...</td>\n",
       "      <td>False</td>\n",
       "      <td>VP Kamala Harris full speech at 2024 DNC (Aug....</td>\n",
       "    </tr>\n",
       "    <tr>\n",
       "      <th>2</th>\n",
       "      <td>2</td>\n",
       "      <td>https://youtu.be/-ofJu78Wpn0?si=H_BZ0KSYr_raPUac</td>\n",
       "      <td>3</td>\n",
       "      <td>/Users/milanvaghani/Desktop/Unstructed Machine...</td>\n",
       "      <td>thank you thank you thank you thank you  thank...</td>\n",
       "      <td>False</td>\n",
       "      <td>VP Kamala Harris full speech at 2024 DNC (Aug....</td>\n",
       "    </tr>\n",
       "    <tr>\n",
       "      <th>3</th>\n",
       "      <td>3</td>\n",
       "      <td>https://youtu.be/-ofJu78Wpn0?si=H_BZ0KSYr_raPUac</td>\n",
       "      <td>4</td>\n",
       "      <td>/Users/milanvaghani/Desktop/Unstructed Machine...</td>\n",
       "      <td>thank you all  thank you all okay  we got to g...</td>\n",
       "      <td>False</td>\n",
       "      <td>VP Kamala Harris full speech at 2024 DNC (Aug....</td>\n",
       "    </tr>\n",
       "    <tr>\n",
       "      <th>4</th>\n",
       "      <td>4</td>\n",
       "      <td>https://youtu.be/-ofJu78Wpn0?si=H_BZ0KSYr_raPUac</td>\n",
       "      <td>5</td>\n",
       "      <td>/Users/milanvaghani/Desktop/Unstructed Machine...</td>\n",
       "      <td>thank you everyone thank you everyone thank yo...</td>\n",
       "      <td>False</td>\n",
       "      <td>VP Kamala Harris full speech at 2024 DNC (Aug....</td>\n",
       "    </tr>\n",
       "  </tbody>\n",
       "</table>\n",
       "</div>"
      ],
      "text/plain": [
       "   Unnamed: 0                                       YouTube URL  Chunk Number  \\\n",
       "0           0  https://youtu.be/-ofJu78Wpn0?si=H_BZ0KSYr_raPUac             1   \n",
       "1           1  https://youtu.be/-ofJu78Wpn0?si=H_BZ0KSYr_raPUac             2   \n",
       "2           2  https://youtu.be/-ofJu78Wpn0?si=H_BZ0KSYr_raPUac             3   \n",
       "3           3  https://youtu.be/-ofJu78Wpn0?si=H_BZ0KSYr_raPUac             4   \n",
       "4           4  https://youtu.be/-ofJu78Wpn0?si=H_BZ0KSYr_raPUac             5   \n",
       "\n",
       "                                      Chunk Filename  \\\n",
       "0  /Users/milanvaghani/Desktop/Unstructed Machine...   \n",
       "1  /Users/milanvaghani/Desktop/Unstructed Machine...   \n",
       "2  /Users/milanvaghani/Desktop/Unstructed Machine...   \n",
       "3  /Users/milanvaghani/Desktop/Unstructed Machine...   \n",
       "4  /Users/milanvaghani/Desktop/Unstructed Machine...   \n",
       "\n",
       "                                          Transcript    lie  \\\n",
       "0                                                NaN  False   \n",
       "1  good evening everyone. Good evening  good even...  False   \n",
       "2  thank you thank you thank you thank you  thank...  False   \n",
       "3  thank you all  thank you all okay  we got to g...  False   \n",
       "4  thank you everyone thank you everyone thank yo...  False   \n",
       "\n",
       "                                               names  \n",
       "0  VP Kamala Harris full speech at 2024 DNC (Aug....  \n",
       "1  VP Kamala Harris full speech at 2024 DNC (Aug....  \n",
       "2  VP Kamala Harris full speech at 2024 DNC (Aug....  \n",
       "3  VP Kamala Harris full speech at 2024 DNC (Aug....  \n",
       "4  VP Kamala Harris full speech at 2024 DNC (Aug....  "
      ]
     },
     "execution_count": 354,
     "metadata": {},
     "output_type": "execute_result"
    }
   ],
   "source": [
    "df.head()"
   ]
  },
  {
   "cell_type": "code",
   "execution_count": null,
   "metadata": {},
   "outputs": [],
   "source": [
    "lie_truth_df = df[[\"Chunk Filename\", \"lie\"]]\n",
    "lie_truth_df.to_csv(\"truth_or_lie_input.csv\")"
   ]
  },
  {
   "cell_type": "code",
   "execution_count": null,
   "metadata": {},
   "outputs": [
    {
     "name": "stdout",
     "output_type": "stream",
     "text": [
      "Chi2 Statistic: 3.103907894660769, p-value: 0.5405897381104283\n",
      "Trump Chi2 Statistic: 1.1947079488455794, p-value: 0.8789691486554918\n",
      "Kamala Chi2 Statistic: 2.913306387164522, p-value: 0.5724366181377519\n"
     ]
    }
   ],
   "source": [
    "from scipy.stats import chi2_contingency\n",
    "import pandas as pd\n",
    "\n",
    "# Create a contingency table of emotions vs truth/lie\n",
    "contingency_table = pd.crosstab(final_df['emotion'], final_df['lie'])\n",
    "\n",
    "# Perform the Chi-Square test\n",
    "chi2, p, dof, expected = chi2_contingency(contingency_table)\n",
    "\n",
    "print(f\"Chi2 Statistic: {chi2}, p-value: {p}\")\n",
    "\n",
    "trump_lies = final_df[final_df[\"speech_number\"].isin([2, 3])]\n",
    "kamala_lies = final_df[final_df[\"speech_number\"].isin([1, 4])]\n",
    "\n",
    "# Create a contingency table of emotions vs truth/lie\n",
    "t_contingency_table = pd.crosstab(trump_lies['emotion'], trump_lies['lie'])\n",
    "\n",
    "# Perform the Chi-Square test\n",
    "t_chi2, t_p, t_dof, t_expected = chi2_contingency(t_contingency_table)\n",
    "\n",
    "print(f\"Trump Chi2 Statistic: {t_chi2}, p-value: {t_p}\")\n",
    "\n",
    "# Create a contingency table of emotions vs truth/lie\n",
    "k_contingency_table = pd.crosstab(kamala_lies['emotion'], kamala_lies['lie'])\n",
    "\n",
    "\n",
    "# Perform the Chi-Square test\n",
    "k_chi2, k_p, k_dof, k_expected = chi2_contingency(k_contingency_table)\n",
    "print(f\"Kamala Chi2 Statistic: {k_chi2}, p-value: {k_p}\")\n"
   ]
  },
  {
   "cell_type": "code",
   "execution_count": null,
   "metadata": {},
   "outputs": [
    {
     "data": {
      "text/plain": [
       "emotion\n",
       "angry        246\n",
       "surprised    129\n",
       "calm          68\n",
       "disgust       37\n",
       "happy         22\n",
       "Name: count, dtype: int64"
      ]
     },
     "execution_count": 357,
     "metadata": {},
     "output_type": "execute_result"
    }
   ],
   "source": [
    "final_df[\"emotion\"].value_counts()"
   ]
  }
 ],
 "metadata": {
  "kernelspec": {
   "display_name": "Python 3.9.19 ('base')",
   "language": "python",
   "name": "python3"
  },
  "language_info": {
   "codemirror_mode": {
    "name": "ipython",
    "version": 3
   },
   "file_extension": ".py",
   "mimetype": "text/x-python",
   "name": "python",
   "nbconvert_exporter": "python",
   "pygments_lexer": "ipython3",
   "version": "3.9.19"
  },
  "orig_nbformat": 4,
  "vscode": {
   "interpreter": {
    "hash": "f3c82d000bb8a1750346fb87c49af9771012dc5d265e5e793ee442432926adf7"
   }
  }
 },
 "nbformat": 4,
 "nbformat_minor": 2
}
