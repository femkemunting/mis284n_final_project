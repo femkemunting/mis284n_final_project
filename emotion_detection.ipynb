{
 "cells": [
  {
   "cell_type": "code",
   "execution_count": 369,
   "metadata": {},
   "outputs": [],
   "source": [
    "# SOURCE: https://data-flair.training/blogs/python-mini-project-speech-emotion-recognition/\n",
    "\n",
    "# Libraries\n",
    "\n",
    "import librosa\n",
    "import soundfile\n",
    "import os, glob, pickle\n",
    "import numpy as np\n",
    "import pandas as pd\n",
    "from sklearn.model_selection import train_test_split\n",
    "from sklearn.neural_network import MLPClassifier\n",
    "from sklearn.metrics import accuracy_score\n"
   ]
  },
  {
   "cell_type": "code",
   "execution_count": 374,
   "metadata": {},
   "outputs": [],
   "source": [
    "\n",
    "#DataFlair - Extract features (mfcc, chroma, mel) from a sound file\n",
    "def extract_feature(file_name, mfcc, chroma, mel):\n",
    "    with soundfile.SoundFile(file_name) as sound_file:\n",
    "        X = sound_file.read(dtype=\"float32\")\n",
    "        sample_rate=sound_file.samplerate\n",
    "        if chroma:\n",
    "            stft=np.abs(librosa.stft(X))\n",
    "        result=np.array([])\n",
    "        if mfcc:\n",
    "            mfccs=np.mean(librosa.feature.mfcc(y=X, sr=sample_rate, n_mfcc=40).T, axis=0)\n",
    "            result=np.hstack((result, mfccs))\n",
    "        if chroma:\n",
    "            chroma=np.mean(librosa.feature.chroma_stft(S=stft, sr=sample_rate).T,axis=0)\n",
    "            result=np.hstack((result, chroma))\n",
    "    if mel:\n",
    "        mel_spec = np.mean(librosa.feature.melspectrogram(y=X, sr=sample_rate).T, axis=0)\n",
    "        result = np.hstack((result, mel_spec))\n",
    "\n",
    "    return result\n",
    "\n",
    "\n",
    "#DataFlair - Emotions in the RAVDESS dataset\n",
    "emotions={\n",
    "  '01':'neutral',\n",
    "  '02':'calm',\n",
    "  '03':'happy',\n",
    "  '04':'sad',\n",
    "  '05':'angry',\n",
    "  '06':'fearful',\n",
    "  '07':'disgust',\n",
    "  '08':'surprised'\n",
    "}\n",
    "\n",
    "#DataFlair - Emotions to observe\n",
    "observed_emotions=['calm', 'disgust', 'surprised', 'happy', 'angry']\n",
    "\n",
    "def pad_features(feature, target_length):\n",
    "    if len(feature) < target_length:\n",
    "        return np.pad(feature, (0, target_length - len(feature)), 'constant')\n",
    "    return feature\n",
    "\n",
    "#DataFlair - Load the data and extract features for each sound file\n",
    "\n",
    "def load_data(test_size=0.2):\n",
    "    x,y=[],[]\n",
    "    for file in glob.glob(\"audio-files/ravdess/Actor_*/*.wav\"):\n",
    "        file_name=os.path.basename(file)\n",
    "        emotion=emotions[file_name.split(\"-\")[2]]\n",
    "        if emotion not in observed_emotions:\n",
    "            continue\n",
    "        feature=extract_feature(file, mfcc=True, chroma=True, mel=True)\n",
    "        x.append(feature)\n",
    "        y.append(emotion)\n",
    "    return train_test_split(np.array(x), y, test_size=test_size, random_state=9)"
   ]
  },
  {
   "cell_type": "code",
   "execution_count": 375,
   "metadata": {},
   "outputs": [
    {
     "name": "stdout",
     "output_type": "stream",
     "text": [
      "(783, 196)\n",
      "Features extracted: 180\n",
      "Accuracy: 54.08%\n"
     ]
    }
   ],
   "source": [
    "#DataFlair - Split the dataset\n",
    "x_train,x_test,y_train,y_test=load_data(test_size=0.20)\n",
    "\n",
    "#DataFlair - Get the shape of the training and testing datasets\n",
    "print((x_train.shape[0], x_test.shape[0]))\n",
    "\n",
    "#DataFlair - Get the number of features extracted\n",
    "print(f'Features extracted: {x_train.shape[1]}')\n",
    "\n",
    "#DataFlair - Initialize the Multi Layer Perceptron Classifier\n",
    "model=MLPClassifier(alpha=0.01, batch_size=256, epsilon=1e-08, hidden_layer_sizes=(300,), learning_rate='adaptive', max_iter=500)\n",
    "\n",
    "#DataFlair - Train the model\n",
    "model.fit(x_train,y_train)\n",
    "\n",
    "#DataFlair - Predict for the test set\n",
    "y_pred=model.predict(x_test)\n",
    "\n",
    "#DataFlair - Calculate the accuracy of our model\n",
    "accuracy=accuracy_score(y_true=y_test, y_pred=y_pred)\n",
    "\n",
    "#DataFlair - Print the accuracy\n",
    "print(\"Accuracy: {:.2f}%\".format(accuracy*100))"
   ]
  },
  {
   "cell_type": "code",
   "execution_count": 398,
   "metadata": {},
   "outputs": [
    {
     "name": "stdout",
     "output_type": "stream",
     "text": [
      "(704, 235)\n",
      "Features extracted: 180\n",
      "Alpha: 0.1, Hidden Layer Size: (300,), Max Iter: 250, Accuracy: 68.51%\n",
      "Alpha: 0.1, Hidden Layer Size: (300,), Max Iter: 500, Accuracy: 65.11%\n",
      "Alpha: 0.1, Hidden Layer Size: (300,), Max Iter: 1000, Accuracy: 69.79%\n",
      "Alpha: 0.1, Hidden Layer Size: (300,), Max Iter: 1500, Accuracy: 65.11%\n",
      "Alpha: 0.1, Hidden Layer Size: (300, 100), Max Iter: 250, Accuracy: 55.74%\n",
      "Alpha: 0.1, Hidden Layer Size: (300, 100), Max Iter: 500, Accuracy: 57.02%\n",
      "Alpha: 0.1, Hidden Layer Size: (300, 100), Max Iter: 1000, Accuracy: 54.47%\n",
      "Alpha: 0.1, Hidden Layer Size: (300, 100), Max Iter: 1500, Accuracy: 54.47%\n",
      "Alpha: 0.1, Hidden Layer Size: (300, 300), Max Iter: 250, Accuracy: 32.34%\n",
      "Alpha: 0.1, Hidden Layer Size: (300, 300), Max Iter: 500, Accuracy: 56.60%\n",
      "Alpha: 0.1, Hidden Layer Size: (300, 300), Max Iter: 1000, Accuracy: 46.38%\n",
      "Alpha: 0.1, Hidden Layer Size: (300, 300), Max Iter: 1500, Accuracy: 44.26%\n",
      "Alpha: 0.05, Hidden Layer Size: (300,), Max Iter: 250, Accuracy: 61.70%\n",
      "Alpha: 0.05, Hidden Layer Size: (300,), Max Iter: 500, Accuracy: 65.53%\n",
      "Alpha: 0.05, Hidden Layer Size: (300,), Max Iter: 1000, Accuracy: 66.38%\n",
      "Alpha: 0.05, Hidden Layer Size: (300,), Max Iter: 1500, Accuracy: 65.11%\n",
      "Alpha: 0.05, Hidden Layer Size: (300, 100), Max Iter: 250, Accuracy: 62.98%\n",
      "Alpha: 0.05, Hidden Layer Size: (300, 100), Max Iter: 500, Accuracy: 59.15%\n",
      "Alpha: 0.05, Hidden Layer Size: (300, 100), Max Iter: 1000, Accuracy: 60.43%\n",
      "Alpha: 0.05, Hidden Layer Size: (300, 100), Max Iter: 1500, Accuracy: 70.21%\n",
      "Alpha: 0.05, Hidden Layer Size: (300, 300), Max Iter: 250, Accuracy: 57.87%\n",
      "Alpha: 0.05, Hidden Layer Size: (300, 300), Max Iter: 500, Accuracy: 53.19%\n",
      "Alpha: 0.05, Hidden Layer Size: (300, 300), Max Iter: 1000, Accuracy: 48.09%\n",
      "Alpha: 0.05, Hidden Layer Size: (300, 300), Max Iter: 1500, Accuracy: 48.94%\n"
     ]
    },
    {
     "name": "stderr",
     "output_type": "stream",
     "text": [
      "/Users/fmunting/opt/anaconda3/lib/python3.9/site-packages/sklearn/neural_network/_multilayer_perceptron.py:686: ConvergenceWarning: Stochastic Optimizer: Maximum iterations (250) reached and the optimization hasn't converged yet.\n",
      "  warnings.warn(\n"
     ]
    },
    {
     "name": "stdout",
     "output_type": "stream",
     "text": [
      "Alpha: 0.01, Hidden Layer Size: (300,), Max Iter: 250, Accuracy: 67.66%\n",
      "Alpha: 0.01, Hidden Layer Size: (300,), Max Iter: 500, Accuracy: 58.30%\n",
      "Alpha: 0.01, Hidden Layer Size: (300,), Max Iter: 1000, Accuracy: 65.11%\n",
      "Alpha: 0.01, Hidden Layer Size: (300,), Max Iter: 1500, Accuracy: 69.79%\n",
      "Alpha: 0.01, Hidden Layer Size: (300, 100), Max Iter: 250, Accuracy: 60.43%\n",
      "Alpha: 0.01, Hidden Layer Size: (300, 100), Max Iter: 500, Accuracy: 59.57%\n",
      "Alpha: 0.01, Hidden Layer Size: (300, 100), Max Iter: 1000, Accuracy: 55.74%\n",
      "Alpha: 0.01, Hidden Layer Size: (300, 100), Max Iter: 1500, Accuracy: 62.98%\n",
      "Alpha: 0.01, Hidden Layer Size: (300, 300), Max Iter: 250, Accuracy: 62.13%\n",
      "Alpha: 0.01, Hidden Layer Size: (300, 300), Max Iter: 500, Accuracy: 57.45%\n",
      "Alpha: 0.01, Hidden Layer Size: (300, 300), Max Iter: 1000, Accuracy: 54.47%\n",
      "Alpha: 0.01, Hidden Layer Size: (300, 300), Max Iter: 1500, Accuracy: 34.04%\n",
      "Alpha: 0.001, Hidden Layer Size: (300,), Max Iter: 250, Accuracy: 61.28%\n",
      "Alpha: 0.001, Hidden Layer Size: (300,), Max Iter: 500, Accuracy: 61.70%\n",
      "Alpha: 0.001, Hidden Layer Size: (300,), Max Iter: 1000, Accuracy: 66.81%\n",
      "Alpha: 0.001, Hidden Layer Size: (300,), Max Iter: 1500, Accuracy: 67.66%\n",
      "Alpha: 0.001, Hidden Layer Size: (300, 100), Max Iter: 250, Accuracy: 61.70%\n",
      "Alpha: 0.001, Hidden Layer Size: (300, 100), Max Iter: 500, Accuracy: 57.87%\n",
      "Alpha: 0.001, Hidden Layer Size: (300, 100), Max Iter: 1000, Accuracy: 58.72%\n",
      "Alpha: 0.001, Hidden Layer Size: (300, 100), Max Iter: 1500, Accuracy: 53.62%\n",
      "Alpha: 0.001, Hidden Layer Size: (300, 300), Max Iter: 250, Accuracy: 49.36%\n",
      "Alpha: 0.001, Hidden Layer Size: (300, 300), Max Iter: 500, Accuracy: 51.49%\n",
      "Alpha: 0.001, Hidden Layer Size: (300, 300), Max Iter: 1000, Accuracy: 56.17%\n",
      "Alpha: 0.001, Hidden Layer Size: (300, 300), Max Iter: 1500, Accuracy: 54.89%\n"
     ]
    }
   ],
   "source": [
    "#DataFlair - Split the dataset\n",
    "x_train,x_test,y_train,y_test=load_data(test_size=0.25)\n",
    "\n",
    "#DataFlair - Get the shape of the training and testing datasets\n",
    "print((x_train.shape[0], x_test.shape[0]))\n",
    "\n",
    "#DataFlair - Get the number of features extracted\n",
    "print(f'Features extracted: {x_train.shape[1]}')\n",
    "\n",
    "alphas = [0.1, 0.05, 0.01, 0.001]\n",
    "hidden_layer_size = [(300,), (300, 100), (300, 300)]\n",
    "max_iter = [250, 500, 1000, 1500]\n",
    "\n",
    "\n",
    "for i in alphas:\n",
    "    for j in hidden_layer_size:\n",
    "        for iter in max_iter:\n",
    "#DataFlair - Initialize the Multi Layer Perceptron Classifier\n",
    "            model=MLPClassifier(alpha=i, batch_size=256, epsilon=1e-08, hidden_layer_sizes=j, learning_rate='adaptive', max_iter=iter)\n",
    "\n",
    "#DataFlair - Train the model\n",
    "            model.fit(x_train,y_train)\n",
    "\n",
    "#DataFlair - Predict for the test set\n",
    "            y_pred=model.predict(x_test)\n",
    "\n",
    "#DataFlair - Calculate the accuracy of our model\n",
    "            accuracy=accuracy_score(y_true=y_test, y_pred=y_pred)\n",
    "\n",
    "#DataFlair - Print the accuracy\n",
    "            print(f\"Alpha: {i}, Hidden Layer Size: {j}, Max Iter: {iter}, Accuracy: {accuracy*100:.2f}%\")\n",
    "\n"
   ]
  },
  {
   "cell_type": "code",
   "execution_count": 399,
   "metadata": {},
   "outputs": [
    {
     "name": "stderr",
     "output_type": "stream",
     "text": [
      "/Users/fmunting/opt/anaconda3/lib/python3.9/site-packages/librosa/core/pitch.py:101: UserWarning: Trying to estimate tuning from empty frequency set.\n",
      "  return pitch_tuning(\n"
     ]
    }
   ],
   "source": [
    "speech_list = []\n",
    "speech_names = []\n",
    "\n",
    "for file in glob.glob(\"audio-files/*.wav\"):\n",
    "    file_name=os.path.basename(file)\n",
    "    speech_names.append(file_name)\n",
    "    feature=extract_feature(file, mfcc=True, chroma=True, mel=True)\n",
    "    speech_list.append(feature)\n",
    "\n"
   ]
  },
  {
   "cell_type": "code",
   "execution_count": 400,
   "metadata": {},
   "outputs": [],
   "source": [
    "\n",
    "def final_load_data():\n",
    "    x,y=[],[]\n",
    "    for file in glob.glob(\"audio-files/ravdess/Actor_*/*.wav\"):\n",
    "        file_name=os.path.basename(file)\n",
    "        emotion=emotions[file_name.split(\"-\")[2]]\n",
    "        if emotion not in observed_emotions:\n",
    "            continue\n",
    "        feature=extract_feature(file, mfcc=True, chroma=True, mel=True)\n",
    "        x.append(feature)\n",
    "        y.append(emotion)\n",
    "    return x, y\n"
   ]
  },
  {
   "cell_type": "code",
   "execution_count": 401,
   "metadata": {},
   "outputs": [],
   "source": [
    "#DataFlair - Split the dataset\n",
    "x, y =final_load_data()\n",
    "\n",
    "#DataFlair - Initialize the Multi Layer Perceptron Classifier\n",
    "final_model=MLPClassifier(alpha=0.05, batch_size=256, epsilon=1e-08, hidden_layer_sizes=(300,100), learning_rate='adaptive', max_iter=1500)\n",
    "\n",
    "#DataFlair - Train the model\n",
    "final_model.fit(x,y)\n",
    "\n",
    "speech_predictions = final_model.predict(speech_list)"
   ]
  },
  {
   "cell_type": "code",
   "execution_count": 402,
   "metadata": {},
   "outputs": [
    {
     "data": {
      "text/plain": [
       "631"
      ]
     },
     "execution_count": 402,
     "metadata": {},
     "output_type": "execute_result"
    }
   ],
   "source": [
    "len(speech_predictions)"
   ]
  },
  {
   "cell_type": "code",
   "execution_count": 403,
   "metadata": {},
   "outputs": [],
   "source": [
    "df = pd.read_csv(\"data-files/transcripts_w_lies.csv\")"
   ]
  },
  {
   "cell_type": "code",
   "execution_count": 404,
   "metadata": {},
   "outputs": [],
   "source": [
    "pred_df = pd.DataFrame({\"names\": speech_names, \"emotion\": speech_predictions})"
   ]
  },
  {
   "cell_type": "code",
   "execution_count": 405,
   "metadata": {},
   "outputs": [
    {
     "data": {
      "text/html": [
       "<div>\n",
       "<style scoped>\n",
       "    .dataframe tbody tr th:only-of-type {\n",
       "        vertical-align: middle;\n",
       "    }\n",
       "\n",
       "    .dataframe tbody tr th {\n",
       "        vertical-align: top;\n",
       "    }\n",
       "\n",
       "    .dataframe thead th {\n",
       "        text-align: right;\n",
       "    }\n",
       "</style>\n",
       "<table border=\"1\" class=\"dataframe\">\n",
       "  <thead>\n",
       "    <tr style=\"text-align: right;\">\n",
       "      <th></th>\n",
       "      <th>names</th>\n",
       "      <th>emotion</th>\n",
       "    </tr>\n",
       "  </thead>\n",
       "  <tbody>\n",
       "    <tr>\n",
       "      <th>0</th>\n",
       "      <td>Donald Trump speaks at the RNC： FULL SPEECH_ch...</td>\n",
       "      <td>angry</td>\n",
       "    </tr>\n",
       "    <tr>\n",
       "      <th>1</th>\n",
       "      <td>Donald Trump speaks at the RNC： FULL SPEECH_ch...</td>\n",
       "      <td>angry</td>\n",
       "    </tr>\n",
       "    <tr>\n",
       "      <th>2</th>\n",
       "      <td>Donald Trump speaks at the RNC： FULL SPEECH_ch...</td>\n",
       "      <td>calm</td>\n",
       "    </tr>\n",
       "    <tr>\n",
       "      <th>3</th>\n",
       "      <td>Donald Trump at Mar-a-Lago [FULL SPEECH]_chunk...</td>\n",
       "      <td>calm</td>\n",
       "    </tr>\n",
       "    <tr>\n",
       "      <th>4</th>\n",
       "      <td>Donald Trump at Mar-a-Lago [FULL SPEECH]_chunk...</td>\n",
       "      <td>calm</td>\n",
       "    </tr>\n",
       "  </tbody>\n",
       "</table>\n",
       "</div>"
      ],
      "text/plain": [
       "                                               names emotion\n",
       "0  Donald Trump speaks at the RNC： FULL SPEECH_ch...   angry\n",
       "1  Donald Trump speaks at the RNC： FULL SPEECH_ch...   angry\n",
       "2  Donald Trump speaks at the RNC： FULL SPEECH_ch...    calm\n",
       "3  Donald Trump at Mar-a-Lago [FULL SPEECH]_chunk...    calm\n",
       "4  Donald Trump at Mar-a-Lago [FULL SPEECH]_chunk...    calm"
      ]
     },
     "execution_count": 405,
     "metadata": {},
     "output_type": "execute_result"
    }
   ],
   "source": [
    "pred_df.head()"
   ]
  },
  {
   "cell_type": "code",
   "execution_count": 406,
   "metadata": {},
   "outputs": [],
   "source": [
    "df[\"names\"] = df[\"Chunk Filename\"].str.replace(\"/Users/milanvaghani/Desktop/Unstructed Machine Learning/\", \"\")"
   ]
  },
  {
   "cell_type": "code",
   "execution_count": 407,
   "metadata": {},
   "outputs": [],
   "source": [
    "df_ordered = df.sort_values(by = \"names\")\n",
    "pred_df_ordered = pred_df.sort_values(by = \"names\")\n",
    "emotion_ordered = pred_df_ordered[\"emotion\"]\n",
    "df_ordered[\"emotion\"] = emotion_ordered"
   ]
  },
  {
   "cell_type": "code",
   "execution_count": 408,
   "metadata": {},
   "outputs": [],
   "source": [
    "final_df = df_ordered.drop(columns = [\"Unnamed: 0\", \"YouTube URL\", \"Chunk Filename\"])"
   ]
  },
  {
   "cell_type": "code",
   "execution_count": 409,
   "metadata": {},
   "outputs": [],
   "source": [
    "speech_number = []\n",
    "\n",
    "for line in final_df[\"names\"]:\n",
    "    if line.startswith(\"Audio Files/Donald Trump speaks\"):\n",
    "        speech_number.append(3)\n",
    "    elif line.startswith(\"VP Kamala Harris full speech\"):\n",
    "        speech_number.append(1)\n",
    "    elif line.startswith(\"Audio Files/Donald Trump full\"):\n",
    "        speech_number.append(2)\n",
    "    else:\n",
    "        speech_number.append(4)\n",
    "\n",
    "final_df[\"speech_number\"] = speech_number"
   ]
  },
  {
   "cell_type": "code",
   "execution_count": 410,
   "metadata": {},
   "outputs": [
    {
     "data": {
      "text/plain": [
       "<Axes: xlabel='count', ylabel='Count'>"
      ]
     },
     "execution_count": 410,
     "metadata": {},
     "output_type": "execute_result"
    },
    {
     "data": {
      "image/png": "[encoded data removed]",
      "text/plain": [
       "<Figure size 640x480 with 1 Axes>"
      ]
     },
     "metadata": {},
     "output_type": "display_data"
    }
   ],
   "source": [
    "import seaborn as sns\n",
    "\n",
    "sns.histplot(final_df.groupby([\"speech_number\", \"lie\"])[\"emotion\"].value_counts())"
   ]
  },
  {
   "cell_type": "code",
   "execution_count": 411,
   "metadata": {},
   "outputs": [
    {
     "name": "stderr",
     "output_type": "stream",
     "text": [
      "/var/folders/gs/rvxrkqns1ws3722g5ty7jpqw0000gn/T/ipykernel_15042/4008278264.py:12: FutureWarning: \n",
      "\n",
      "The `ci` parameter is deprecated. Use `errorbar=None` for the same effect.\n",
      "\n",
      "  g = sns.catplot(\n"
     ]
    },
    {
     "data": {
      "image/png": "[encoded data removed]",
      "text/plain": [
       "<Figure size 2004.87x400 with 4 Axes>"
      ]
     },
     "metadata": {},
     "output_type": "display_data"
    }
   ],
   "source": [
    "import pandas as pd\n",
    "import seaborn as sns\n",
    "import matplotlib.pyplot as plt\n",
    "\n",
    "# Step 1: Calculate the percentage of emotions within each speech and lie/truth\n",
    "emotion_counts = final_df.groupby([\"speech_number\", \"lie\", \"emotion\"]).size().reset_index(name=\"counts\")\n",
    "\n",
    "# Step 2: Calculate the percentage of each emotion within each speech and lie/truth\n",
    "emotion_counts[\"percentage\"] = emotion_counts.groupby([\"speech_number\", \"lie\"])[\"counts\"].transform(lambda x: 100 * x / x.sum())\n",
    "\n",
    "# Step 3: Plot using FacetGrid to split by speech_number\n",
    "g = sns.catplot(\n",
    "    data=emotion_counts,\n",
    "    x=\"emotion\", y=\"percentage\", hue=\"lie\", col=\"speech_number\",\n",
    "    kind=\"bar\", ci=None, height=4, aspect=1.2\n",
    ")\n",
    "\n",
    "# Manually set titles for each subplot\n",
    "custom_titles = [\"Harris DNC\", \"Trump RNC\", \"Harris Rally\", \"Trump Rally\"]\n",
    "for ax, title in zip(g.axes.flat, custom_titles):\n",
    "    ax.set_title(title)\n",
    "g.set_axis_labels(\"Emotion\", \"Percentage\")\n",
    "g.set_xticklabels(rotation=45)\n",
    "plt.tight_layout()\n",
    "plt.show()\n"
   ]
  },
  {
   "cell_type": "code",
   "execution_count": 412,
   "metadata": {},
   "outputs": [
    {
     "data": {
      "text/html": [
       "<div>\n",
       "<style scoped>\n",
       "    .dataframe tbody tr th:only-of-type {\n",
       "        vertical-align: middle;\n",
       "    }\n",
       "\n",
       "    .dataframe tbody tr th {\n",
       "        vertical-align: top;\n",
       "    }\n",
       "\n",
       "    .dataframe thead th {\n",
       "        text-align: right;\n",
       "    }\n",
       "</style>\n",
       "<table border=\"1\" class=\"dataframe\">\n",
       "  <thead>\n",
       "    <tr style=\"text-align: right;\">\n",
       "      <th></th>\n",
       "      <th>Unnamed: 0</th>\n",
       "      <th>YouTube URL</th>\n",
       "      <th>Chunk Number</th>\n",
       "      <th>Chunk Filename</th>\n",
       "      <th>Transcript</th>\n",
       "      <th>lie</th>\n",
       "      <th>names</th>\n",
       "    </tr>\n",
       "  </thead>\n",
       "  <tbody>\n",
       "    <tr>\n",
       "      <th>0</th>\n",
       "      <td>0</td>\n",
       "      <td>https://youtu.be/-ofJu78Wpn0?si=H_BZ0KSYr_raPUac</td>\n",
       "      <td>1</td>\n",
       "      <td>/Users/milanvaghani/Desktop/Unstructed Machine...</td>\n",
       "      <td>NaN</td>\n",
       "      <td>False</td>\n",
       "      <td>VP Kamala Harris full speech at 2024 DNC (Aug....</td>\n",
       "    </tr>\n",
       "    <tr>\n",
       "      <th>1</th>\n",
       "      <td>1</td>\n",
       "      <td>https://youtu.be/-ofJu78Wpn0?si=H_BZ0KSYr_raPUac</td>\n",
       "      <td>2</td>\n",
       "      <td>/Users/milanvaghani/Desktop/Unstructed Machine...</td>\n",
       "      <td>good evening everyone. Good evening  good even...</td>\n",
       "      <td>False</td>\n",
       "      <td>VP Kamala Harris full speech at 2024 DNC (Aug....</td>\n",
       "    </tr>\n",
       "    <tr>\n",
       "      <th>2</th>\n",
       "      <td>2</td>\n",
       "      <td>https://youtu.be/-ofJu78Wpn0?si=H_BZ0KSYr_raPUac</td>\n",
       "      <td>3</td>\n",
       "      <td>/Users/milanvaghani/Desktop/Unstructed Machine...</td>\n",
       "      <td>thank you thank you thank you thank you  thank...</td>\n",
       "      <td>False</td>\n",
       "      <td>VP Kamala Harris full speech at 2024 DNC (Aug....</td>\n",
       "    </tr>\n",
       "    <tr>\n",
       "      <th>3</th>\n",
       "      <td>3</td>\n",
       "      <td>https://youtu.be/-ofJu78Wpn0?si=H_BZ0KSYr_raPUac</td>\n",
       "      <td>4</td>\n",
       "      <td>/Users/milanvaghani/Desktop/Unstructed Machine...</td>\n",
       "      <td>thank you all  thank you all okay  we got to g...</td>\n",
       "      <td>False</td>\n",
       "      <td>VP Kamala Harris full speech at 2024 DNC (Aug....</td>\n",
       "    </tr>\n",
       "    <tr>\n",
       "      <th>4</th>\n",
       "      <td>4</td>\n",
       "      <td>https://youtu.be/-ofJu78Wpn0?si=H_BZ0KSYr_raPUac</td>\n",
       "      <td>5</td>\n",
       "      <td>/Users/milanvaghani/Desktop/Unstructed Machine...</td>\n",
       "      <td>thank you everyone thank you everyone thank yo...</td>\n",
       "      <td>False</td>\n",
       "      <td>VP Kamala Harris full speech at 2024 DNC (Aug....</td>\n",
       "    </tr>\n",
       "  </tbody>\n",
       "</table>\n",
       "</div>"
      ],
      "text/plain": [
       "   Unnamed: 0                                       YouTube URL  Chunk Number  \\\n",
       "0           0  https://youtu.be/-ofJu78Wpn0?si=H_BZ0KSYr_raPUac             1   \n",
       "1           1  https://youtu.be/-ofJu78Wpn0?si=H_BZ0KSYr_raPUac             2   \n",
       "2           2  https://youtu.be/-ofJu78Wpn0?si=H_BZ0KSYr_raPUac             3   \n",
       "3           3  https://youtu.be/-ofJu78Wpn0?si=H_BZ0KSYr_raPUac             4   \n",
       "4           4  https://youtu.be/-ofJu78Wpn0?si=H_BZ0KSYr_raPUac             5   \n",
       "\n",
       "                                      Chunk Filename  \\\n",
       "0  /Users/milanvaghani/Desktop/Unstructed Machine...   \n",
       "1  /Users/milanvaghani/Desktop/Unstructed Machine...   \n",
       "2  /Users/milanvaghani/Desktop/Unstructed Machine...   \n",
       "3  /Users/milanvaghani/Desktop/Unstructed Machine...   \n",
       "4  /Users/milanvaghani/Desktop/Unstructed Machine...   \n",
       "\n",
       "                                          Transcript    lie  \\\n",
       "0                                                NaN  False   \n",
       "1  good evening everyone. Good evening  good even...  False   \n",
       "2  thank you thank you thank you thank you  thank...  False   \n",
       "3  thank you all  thank you all okay  we got to g...  False   \n",
       "4  thank you everyone thank you everyone thank yo...  False   \n",
       "\n",
       "                                               names  \n",
       "0  VP Kamala Harris full speech at 2024 DNC (Aug....  \n",
       "1  VP Kamala Harris full speech at 2024 DNC (Aug....  \n",
       "2  VP Kamala Harris full speech at 2024 DNC (Aug....  \n",
       "3  VP Kamala Harris full speech at 2024 DNC (Aug....  \n",
       "4  VP Kamala Harris full speech at 2024 DNC (Aug....  "
      ]
     },
     "execution_count": 412,
     "metadata": {},
     "output_type": "execute_result"
    }
   ],
   "source": [
    "df.head()"
   ]
  },
  {
   "cell_type": "code",
   "execution_count": 413,
   "metadata": {},
   "outputs": [],
   "source": [
    "lie_truth_df = df[[\"Chunk Filename\", \"lie\"]]\n",
    "lie_truth_df.to_csv(\"truth_or_lie_input.csv\")"
   ]
  },
  {
   "cell_type": "code",
   "execution_count": 414,
   "metadata": {},
   "outputs": [
    {
     "name": "stdout",
     "output_type": "stream",
     "text": [
      "Chi2 Statistic: 6.808997322337334, p-value: 0.14633273849028924\n",
      "Trump Chi2 Statistic: 4.419936864005095, p-value: 0.3521467350967731\n",
      "Kamala Chi2 Statistic: 7.265745007680492, p-value: 0.12249373208971674\n"
     ]
    }
   ],
   "source": [
    "from scipy.stats import chi2_contingency\n",
    "import pandas as pd\n",
    "\n",
    "# Create a contingency table of emotions vs truth/lie\n",
    "contingency_table = pd.crosstab(final_df['emotion'], final_df['lie'])\n",
    "\n",
    "# Perform the Chi-Square test\n",
    "chi2, p, dof, expected = chi2_contingency(contingency_table)\n",
    "\n",
    "print(f\"Chi2 Statistic: {chi2}, p-value: {p}\")\n",
    "\n",
    "trump_lies = final_df[final_df[\"speech_number\"].isin([2, 3])]\n",
    "kamala_lies = final_df[final_df[\"speech_number\"].isin([1, 4])]\n",
    "\n",
    "# Create a contingency table of emotions vs truth/lie\n",
    "t_contingency_table = pd.crosstab(trump_lies['emotion'], trump_lies['lie'])\n",
    "\n",
    "# Perform the Chi-Square test\n",
    "t_chi2, t_p, t_dof, t_expected = chi2_contingency(t_contingency_table)\n",
    "\n",
    "print(f\"Trump Chi2 Statistic: {t_chi2}, p-value: {t_p}\")\n",
    "\n",
    "# Create a contingency table of emotions vs truth/lie\n",
    "k_contingency_table = pd.crosstab(kamala_lies['emotion'], kamala_lies['lie'])\n",
    "\n",
    "\n",
    "# Perform the Chi-Square test\n",
    "k_chi2, k_p, k_dof, k_expected = chi2_contingency(k_contingency_table)\n",
    "print(f\"Kamala Chi2 Statistic: {k_chi2}, p-value: {k_p}\")\n"
   ]
  },
  {
   "cell_type": "code",
   "execution_count": 415,
   "metadata": {},
   "outputs": [
    {
     "data": {
      "text/plain": [
       "emotion\n",
       "calm         209\n",
       "disgust      114\n",
       "surprised     96\n",
       "angry         78\n",
       "happy         41\n",
       "Name: count, dtype: int64"
      ]
     },
     "execution_count": 415,
     "metadata": {},
     "output_type": "execute_result"
    }
   ],
   "source": [
    "final_df[\"emotion\"].value_counts()"
   ]
  },
  {
   "cell_type": "code",
   "execution_count": 421,
   "metadata": {},
   "outputs": [
    {
     "data": {
      "text/plain": [
       "emotion    lie  \n",
       "calm       False    51\n",
       "disgust    False    36\n",
       "surprised  False    30\n",
       "angry      False    27\n",
       "happy      False    14\n",
       "angry      True      4\n",
       "surprised  True      4\n",
       "calm       True      3\n",
       "happy      True      3\n",
       "Name: count, dtype: int64"
      ]
     },
     "execution_count": 421,
     "metadata": {},
     "output_type": "execute_result"
    }
   ],
   "source": [
    "harris_data = final_df[final_df[\"speech_number\"].isin([1, 4])]\n",
    "harris_data[[\"emotion\", \"lie\"]].value_counts()"
   ]
  },
  {
   "cell_type": "code",
   "execution_count": 422,
   "metadata": {},
   "outputs": [
    {
     "data": {
      "text/plain": [
       "emotion    lie  \n",
       "calm       False    149\n",
       "disgust    False     71\n",
       "surprised  False     59\n",
       "angry      False     44\n",
       "happy      False     21\n",
       "disgust    True       7\n",
       "calm       True       6\n",
       "angry      True       3\n",
       "happy      True       3\n",
       "surprised  True       3\n",
       "Name: count, dtype: int64"
      ]
     },
     "execution_count": 422,
     "metadata": {},
     "output_type": "execute_result"
    }
   ],
   "source": [
    "trump_data = final_df[final_df[\"speech_number\"].isin([2, 3])]\n",
    "trump_data[[\"emotion\", \"lie\"]].value_counts()"
   ]
  },
  {
   "cell_type": "code",
   "execution_count": null,
   "metadata": {},
   "outputs": [],
   "source": []
  }
 ],
 "metadata": {
  "kernelspec": {
   "display_name": "Python 3.9.19 ('base')",
   "language": "python",
   "name": "python3"
  },
  "language_info": {
   "codemirror_mode": {
    "name": "ipython",
    "version": 3
   },
   "file_extension": ".py",
   "mimetype": "text/x-python",
   "name": "python",
   "nbconvert_exporter": "python",
   "pygments_lexer": "ipython3",
   "version": "3.9.19"
  },
  "orig_nbformat": 4,
  "vscode": {
   "interpreter": {
    "hash": "f3c82d000bb8a1750346fb87c49af9771012dc5d265e5e793ee442432926adf7"
   }
  }
 },
 "nbformat": 4,
 "nbformat_minor": 2
}
