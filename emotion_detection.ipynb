{
 "cells": [
  {
   "cell_type": "code",
   "execution_count": 1,
   "metadata": {},
   "outputs": [],
   "source": [
    "# SOURCE: https://data-flair.training/blogs/python-mini-project-speech-emotion-recognition/\n",
    "\n",
    "# Libraries\n",
    "\n",
    "import librosa\n",
    "import soundfile\n",
    "import os, glob, pickle\n",
    "import numpy as np\n",
    "import pandas as pd\n",
    "from sklearn.model_selection import train_test_split\n",
    "from sklearn.neural_network import MLPClassifier\n",
    "from sklearn.metrics import accuracy_score\n"
   ]
  },
  {
   "cell_type": "code",
   "execution_count": 21,
   "metadata": {},
   "outputs": [],
   "source": [
    "\n",
    "#DataFlair - Extract features (mfcc, chroma, mel) from a sound file\n",
    "def extract_feature(file_name, mfcc, chroma, mel):\n",
    "    with soundfile.SoundFile(file_name) as sound_file:\n",
    "        X = sound_file.read(dtype=\"float32\")\n",
    "        sample_rate=sound_file.samplerate\n",
    "        if chroma:\n",
    "            stft=np.abs(librosa.stft(X))\n",
    "        result=np.array([])\n",
    "        if mfcc:\n",
    "            mfccs=np.mean(librosa.feature.mfcc(y=X, sr=sample_rate, n_mfcc=40).T, axis=0)\n",
    "            result=np.hstack((result, mfccs))\n",
    "        if chroma:\n",
    "            chroma=np.mean(librosa.feature.chroma_stft(S=stft, sr=sample_rate).T,axis=0)\n",
    "            result=np.hstack((result, chroma))\n",
    "    if mel:\n",
    "        mel_spec = np.mean(librosa.feature.melspectrogram(y=X, sr=sample_rate).T, axis=0)\n",
    "        result = np.hstack((result, mel_spec))\n",
    "\n",
    "    return result\n",
    "\n",
    "\n",
    "\n",
    "\n",
    "#DataFlair - Emotions in the RAVDESS dataset\n",
    "emotions={\n",
    "  '01':'neutral',\n",
    "  '02':'calm',\n",
    "  '03':'happy',\n",
    "  '04':'sad',\n",
    "  '05':'angry',\n",
    "  '06':'fearful',\n",
    "  '07':'disgust',\n",
    "  '08':'surprised'\n",
    "}\n",
    "\n",
    "#DataFlair - Emotions to observe\n",
    "observed_emotions=['calm', 'happy', 'fearful', 'disgust', 'surprised', 'neutral', 'angry', 'sad']\n",
    "\n",
    "def pad_features(feature, target_length):\n",
    "    if len(feature) < target_length:\n",
    "        return np.pad(feature, (0, target_length - len(feature)), 'constant')\n",
    "    return feature\n",
    "\n",
    "#DataFlair - Load the data and extract features for each sound file\n",
    "\n",
    "def load_data(test_size=0.2):\n",
    "    x,y=[],[]\n",
    "    for file in glob.glob(\"data/ravdess-data-mini/Actor_*/*.wav\"):\n",
    "        file_name=os.path.basename(file)\n",
    "        emotion=emotions[file_name.split(\"-\")[2]]\n",
    "        if emotion not in observed_emotions:\n",
    "            continue\n",
    "        feature=extract_feature(file, mfcc=True, chroma=True, mel=True)\n",
    "        x.append(feature)\n",
    "        y.append(emotion)\n",
    "    return train_test_split(np.array(x), y, test_size=test_size, random_state=9)"
   ]
  },
  {
   "cell_type": "code",
   "execution_count": 28,
   "metadata": {},
   "outputs": [
    {
     "name": "stdout",
     "output_type": "stream",
     "text": [
      "(1080, 360)\n",
      "Features extracted: 180\n",
      "Accuracy: 49.44%\n"
     ]
    }
   ],
   "source": [
    "#DataFlair - Split the dataset\n",
    "x_train,x_test,y_train,y_test=load_data(test_size=0.25)\n",
    "\n",
    "#DataFlair - Get the shape of the training and testing datasets\n",
    "print((x_train.shape[0], x_test.shape[0]))\n",
    "\n",
    "#DataFlair - Get the number of features extracted\n",
    "print(f'Features extracted: {x_train.shape[1]}')\n",
    "\n",
    "#DataFlair - Initialize the Multi Layer Perceptron Classifier\n",
    "model=MLPClassifier(alpha=0.01, batch_size=256, epsilon=1e-08, hidden_layer_sizes=(300,), learning_rate='adaptive', max_iter=500)\n",
    "\n",
    "#DataFlair - Train the model\n",
    "model.fit(x_train,y_train)\n",
    "\n",
    "#DataFlair - Predict for the test set\n",
    "y_pred=model.predict(x_test)\n",
    "\n",
    "#DataFlair - Calculate the accuracy of our model\n",
    "accuracy=accuracy_score(y_true=y_test, y_pred=y_pred)\n",
    "\n",
    "#DataFlair - Print the accuracy\n",
    "print(\"Accuracy: {:.2f}%\".format(accuracy*100))"
   ]
  },
  {
   "cell_type": "code",
   "execution_count": 33,
   "metadata": {},
   "outputs": [
    {
     "name": "stderr",
     "output_type": "stream",
     "text": [
      "/Users/fmunting/opt/anaconda3/lib/python3.9/site-packages/librosa/core/pitch.py:101: UserWarning: Trying to estimate tuning from empty frequency set.\n",
      "  return pitch_tuning(\n"
     ]
    }
   ],
   "source": [
    "speech_list = []\n",
    "for file in glob.glob(\"audio-files/*.wav\"):\n",
    "    file_name=os.path.basename(file)\n",
    "    feature=extract_feature(file, mfcc=True, chroma=True, mel=True)\n",
    "    speech_list.append(feature)"
   ]
  },
  {
   "cell_type": "code",
   "execution_count": 34,
   "metadata": {},
   "outputs": [
    {
     "data": {
      "text/plain": [
       "array(['angry', 'fearful', 'calm', 'angry', 'angry', 'disgust', 'angry',\n",
       "       'angry', 'calm', 'angry', 'angry', 'fearful', 'disgust', 'angry',\n",
       "       'disgust', 'angry', 'angry', 'angry', 'angry', 'disgust', 'angry',\n",
       "       'disgust', 'angry', 'angry', 'angry', 'angry', 'disgust',\n",
       "       'fearful', 'fearful', 'angry', 'angry', 'angry', 'fearful',\n",
       "       'angry', 'angry', 'disgust', 'disgust', 'angry', 'fearful',\n",
       "       'angry', 'angry', 'angry', 'angry', 'disgust', 'angry', 'angry',\n",
       "       'disgust', 'disgust', 'fearful', 'angry', 'disgust', 'angry',\n",
       "       'angry', 'angry', 'angry', 'angry', 'angry', 'disgust', 'disgust',\n",
       "       'fearful', 'angry', 'angry', 'disgust', 'disgust', 'disgust',\n",
       "       'angry', 'angry', 'angry', 'angry', 'calm', 'angry', 'angry',\n",
       "       'angry', 'angry', 'calm', 'fearful', 'disgust', 'disgust', 'angry',\n",
       "       'angry', 'angry', 'angry', 'angry', 'angry', 'angry', 'angry',\n",
       "       'angry', 'angry', 'angry', 'disgust', 'angry', 'fearful', 'angry',\n",
       "       'angry', 'disgust', 'disgust', 'angry', 'angry', 'angry', 'angry',\n",
       "       'angry', 'angry', 'calm', 'calm', 'fearful', 'angry', 'disgust',\n",
       "       'fearful', 'disgust', 'angry', 'angry', 'disgust', 'fearful',\n",
       "       'fearful', 'disgust', 'angry', 'angry', 'angry', 'angry',\n",
       "       'disgust', 'angry', 'angry', 'angry', 'angry', 'fearful',\n",
       "       'disgust', 'angry', 'calm', 'disgust', 'disgust', 'angry', 'angry',\n",
       "       'fearful', 'calm', 'angry', 'calm', 'angry', 'angry', 'angry',\n",
       "       'angry', 'angry', 'angry', 'angry', 'disgust', 'angry', 'disgust',\n",
       "       'fearful', 'angry', 'disgust', 'angry', 'angry', 'disgust',\n",
       "       'angry', 'disgust', 'angry', 'angry', 'angry', 'disgust',\n",
       "       'disgust', 'angry', 'calm', 'angry', 'angry', 'angry', 'angry',\n",
       "       'disgust', 'angry', 'angry', 'calm', 'angry', 'calm', 'calm',\n",
       "       'disgust', 'fearful', 'angry', 'angry', 'disgust', 'disgust',\n",
       "       'angry', 'angry', 'disgust', 'angry', 'disgust', 'angry', 'angry',\n",
       "       'disgust', 'angry', 'disgust', 'fearful', 'angry', 'disgust',\n",
       "       'disgust', 'angry', 'fearful', 'angry', 'angry', 'fearful',\n",
       "       'angry', 'fearful', 'angry', 'calm', 'calm', 'angry', 'angry',\n",
       "       'angry', 'angry', 'angry', 'angry', 'disgust', 'disgust', 'angry',\n",
       "       'angry', 'fearful', 'angry', 'disgust', 'angry', 'angry',\n",
       "       'disgust', 'disgust', 'disgust', 'angry', 'angry', 'angry',\n",
       "       'angry', 'disgust', 'angry', 'disgust', 'angry', 'angry',\n",
       "       'disgust', 'angry', 'disgust', 'fearful', 'fearful', 'angry',\n",
       "       'angry', 'angry', 'disgust', 'calm', 'calm', 'angry', 'angry',\n",
       "       'angry', 'fearful', 'disgust', 'angry', 'angry', 'angry',\n",
       "       'disgust', 'disgust', 'disgust', 'angry', 'angry', 'angry',\n",
       "       'angry', 'disgust', 'angry', 'angry', 'angry', 'disgust',\n",
       "       'disgust', 'angry', 'angry', 'disgust', 'disgust', 'angry',\n",
       "       'angry', 'angry', 'angry', 'angry', 'angry', 'angry', 'angry',\n",
       "       'disgust', 'fearful', 'angry', 'disgust', 'angry', 'angry',\n",
       "       'angry', 'angry', 'angry', 'disgust', 'disgust', 'angry', 'angry',\n",
       "       'angry', 'angry', 'angry', 'disgust', 'disgust', 'angry',\n",
       "       'disgust', 'fearful', 'angry', 'angry', 'fearful', 'angry',\n",
       "       'angry', 'disgust', 'angry', 'calm', 'angry', 'angry', 'angry',\n",
       "       'disgust', 'angry', 'angry', 'disgust', 'angry', 'angry', 'angry',\n",
       "       'angry', 'angry', 'fearful', 'angry', 'angry', 'angry', 'angry',\n",
       "       'disgust', 'angry', 'angry', 'angry', 'disgust', 'disgust',\n",
       "       'angry', 'angry', 'angry', 'angry', 'fearful', 'disgust',\n",
       "       'disgust', 'fearful', 'angry', 'angry', 'disgust', 'disgust',\n",
       "       'angry', 'fearful', 'angry', 'calm', 'angry', 'angry', 'angry',\n",
       "       'disgust', 'angry', 'disgust', 'angry', 'angry', 'angry', 'angry',\n",
       "       'angry', 'fearful', 'angry', 'disgust', 'angry', 'fearful',\n",
       "       'disgust', 'disgust', 'angry', 'angry', 'disgust', 'angry',\n",
       "       'disgust', 'disgust', 'fearful', 'angry', 'angry', 'angry',\n",
       "       'disgust', 'disgust', 'angry', 'angry', 'angry', 'angry',\n",
       "       'disgust', 'disgust', 'angry', 'angry', 'calm', 'angry', 'calm',\n",
       "       'disgust', 'angry', 'angry', 'angry', 'fearful', 'disgust',\n",
       "       'angry', 'angry', 'angry', 'disgust', 'fearful', 'disgust',\n",
       "       'angry', 'angry', 'angry', 'angry', 'angry', 'angry', 'angry',\n",
       "       'fearful', 'angry', 'disgust', 'angry', 'angry', 'angry',\n",
       "       'fearful', 'angry', 'disgust', 'angry', 'angry', 'calm', 'angry',\n",
       "       'fearful', 'calm', 'sad', 'disgust', 'angry', 'fearful', 'angry',\n",
       "       'fearful', 'calm', 'disgust', 'angry', 'angry', 'angry', 'angry',\n",
       "       'angry', 'angry', 'angry', 'angry', 'angry', 'disgust', 'angry',\n",
       "       'calm', 'disgust', 'disgust', 'disgust', 'fearful', 'angry',\n",
       "       'angry', 'fearful', 'disgust', 'calm', 'angry', 'angry', 'angry',\n",
       "       'fearful', 'calm', 'disgust', 'fearful', 'angry', 'angry',\n",
       "       'fearful', 'angry', 'angry', 'angry', 'disgust', 'angry', 'angry',\n",
       "       'angry', 'angry', 'angry', 'angry', 'angry', 'angry', 'disgust',\n",
       "       'disgust', 'angry', 'disgust', 'angry', 'calm', 'fearful', 'angry',\n",
       "       'angry', 'calm', 'disgust', 'calm', 'angry', 'fearful', 'calm',\n",
       "       'disgust', 'angry', 'angry', 'angry', 'fearful', 'angry', 'angry',\n",
       "       'angry', 'angry', 'angry', 'angry', 'fearful', 'angry', 'disgust',\n",
       "       'disgust', 'fearful', 'angry', 'angry', 'fearful', 'angry',\n",
       "       'angry', 'calm', 'angry', 'calm', 'calm', 'calm', 'angry',\n",
       "       'fearful', 'disgust', 'disgust', 'disgust', 'angry', 'angry',\n",
       "       'disgust', 'angry', 'angry', 'angry', 'disgust', 'angry', 'angry',\n",
       "       'angry', 'angry', 'angry', 'angry', 'calm', 'disgust', 'angry',\n",
       "       'fearful', 'disgust', 'fearful', 'fearful', 'disgust', 'disgust',\n",
       "       'angry', 'fearful', 'calm'], dtype='<U9')"
      ]
     },
     "execution_count": 34,
     "metadata": {},
     "output_type": "execute_result"
    }
   ],
   "source": [
    "model.predict(speech_list)"
   ]
  }
 ],
 "metadata": {
  "kernelspec": {
   "display_name": "Python 3.9.19 ('base')",
   "language": "python",
   "name": "python3"
  },
  "language_info": {
   "codemirror_mode": {
    "name": "ipython",
    "version": 3
   },
   "file_extension": ".py",
   "mimetype": "text/x-python",
   "name": "python",
   "nbconvert_exporter": "python",
   "pygments_lexer": "ipython3",
   "version": "3.9.19"
  },
  "orig_nbformat": 4,
  "vscode": {
   "interpreter": {
    "hash": "f3c82d000bb8a1750346fb87c49af9771012dc5d265e5e793ee442432926adf7"
   }
  }
 },
 "nbformat": 4,
 "nbformat_minor": 2
}
