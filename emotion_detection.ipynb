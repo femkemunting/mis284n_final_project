{
 "cells": [
  {
   "cell_type": "code",
   "execution_count": 1,
   "metadata": {},
   "outputs": [],
   "source": [
    "# SOURCE: https://data-flair.training/blogs/python-mini-project-speech-emotion-recognition/\n",
    "\n",
    "# Libraries\n",
    "\n",
    "import librosa\n",
    "import soundfile\n",
    "import os, glob, pickle\n",
    "import numpy as np\n",
    "import pandas as pd\n",
    "from sklearn.model_selection import train_test_split\n",
    "from sklearn.neural_network import MLPClassifier\n",
    "from sklearn.metrics import accuracy_score\n"
   ]
  },
  {
   "cell_type": "code",
   "execution_count": 193,
   "metadata": {},
   "outputs": [],
   "source": [
    "\n",
    "#DataFlair - Extract features (mfcc, chroma, mel) from a sound file\n",
    "def extract_feature(file_name, mfcc, chroma, mel):\n",
    "    with soundfile.SoundFile(file_name) as sound_file:\n",
    "        X = sound_file.read(dtype=\"float32\")\n",
    "        sample_rate=sound_file.samplerate\n",
    "        if chroma:\n",
    "            stft=np.abs(librosa.stft(X))\n",
    "        result=np.array([])\n",
    "        if mfcc:\n",
    "            mfccs=np.mean(librosa.feature.mfcc(y=X, sr=sample_rate, n_mfcc=40).T, axis=0)\n",
    "            result=np.hstack((result, mfccs))\n",
    "        if chroma:\n",
    "            chroma=np.mean(librosa.feature.chroma_stft(S=stft, sr=sample_rate).T,axis=0)\n",
    "            result=np.hstack((result, chroma))\n",
    "    if mel:\n",
    "        mel_spec = np.mean(librosa.feature.melspectrogram(y=X, sr=sample_rate).T, axis=0)\n",
    "        result = np.hstack((result, mel_spec))\n",
    "\n",
    "    return result\n",
    "\n",
    "\n",
    "\n",
    "\n",
    "#DataFlair - Emotions in the RAVDESS dataset\n",
    "emotions={\n",
    "  '01':'neutral',\n",
    "  '02':'calm',\n",
    "  '03':'happy',\n",
    "  '04':'sad',\n",
    "  '05':'angry',\n",
    "  '06':'fearful',\n",
    "  '07':'disgust',\n",
    "  '08':'surprised'\n",
    "}\n",
    "\n",
    "#DataFlair - Emotions to observe\n",
    "observed_emotions=['calm', 'fearful', 'disgust', 'surprised', 'happy', 'sad']\n",
    "\n",
    "def pad_features(feature, target_length):\n",
    "    if len(feature) < target_length:\n",
    "        return np.pad(feature, (0, target_length - len(feature)), 'constant')\n",
    "    return feature\n",
    "\n",
    "#DataFlair - Load the data and extract features for each sound file\n",
    "\n",
    "def load_data(test_size=0.2):\n",
    "    x,y=[],[]\n",
    "    for file in glob.glob(\"audio-files/ravdess/Actor_*/*.wav\"):\n",
    "        file_name=os.path.basename(file)\n",
    "        emotion=emotions[file_name.split(\"-\")[2]]\n",
    "        if emotion not in observed_emotions:\n",
    "            continue\n",
    "        feature=extract_feature(file, mfcc=True, chroma=True, mel=True)\n",
    "        x.append(feature)\n",
    "        y.append(emotion)\n",
    "    return train_test_split(np.array(x), y, test_size=test_size, random_state=9)"
   ]
  },
  {
   "cell_type": "code",
   "execution_count": 194,
   "metadata": {},
   "outputs": [
    {
     "name": "stdout",
     "output_type": "stream",
     "text": [
      "(537, 135)\n",
      "Features extracted: 180\n",
      "Accuracy: 37.04%\n"
     ]
    }
   ],
   "source": [
    "#DataFlair - Split the dataset\n",
    "x_train,x_test,y_train,y_test=load_data(test_size=0.20)\n",
    "\n",
    "#DataFlair - Get the shape of the training and testing datasets\n",
    "print((x_train.shape[0], x_test.shape[0]))\n",
    "\n",
    "#DataFlair - Get the number of features extracted\n",
    "print(f'Features extracted: {x_train.shape[1]}')\n",
    "\n",
    "#DataFlair - Initialize the Multi Layer Perceptron Classifier\n",
    "model=MLPClassifier(alpha=0.01, batch_size=256, epsilon=1e-08, hidden_layer_sizes=(300,), learning_rate='adaptive', max_iter=500)\n",
    "\n",
    "#DataFlair - Train the model\n",
    "model.fit(x_train,y_train)\n",
    "\n",
    "#DataFlair - Predict for the test set\n",
    "y_pred=model.predict(x_test)\n",
    "\n",
    "#DataFlair - Calculate the accuracy of our model\n",
    "accuracy=accuracy_score(y_true=y_test, y_pred=y_pred)\n",
    "\n",
    "#DataFlair - Print the accuracy\n",
    "print(\"Accuracy: {:.2f}%\".format(accuracy*100))"
   ]
  },
  {
   "cell_type": "code",
   "execution_count": 195,
   "metadata": {},
   "outputs": [
    {
     "name": "stdout",
     "output_type": "stream",
     "text": [
      "(504, 168)\n",
      "Features extracted: 180\n"
     ]
    },
    {
     "name": "stderr",
     "output_type": "stream",
     "text": [
      "/Users/fmunting/opt/anaconda3/lib/python3.9/site-packages/sklearn/neural_network/_multilayer_perceptron.py:686: ConvergenceWarning: Stochastic Optimizer: Maximum iterations (250) reached and the optimization hasn't converged yet.\n",
      "  warnings.warn(\n"
     ]
    },
    {
     "name": "stdout",
     "output_type": "stream",
     "text": [
      "Alpha: 0.1, Hidden Layer Size: (300,), Max Iter: 250, Accuracy: 62.50%\n"
     ]
    },
    {
     "name": "stderr",
     "output_type": "stream",
     "text": [
      "/Users/fmunting/opt/anaconda3/lib/python3.9/site-packages/sklearn/neural_network/_multilayer_perceptron.py:686: ConvergenceWarning: Stochastic Optimizer: Maximum iterations (500) reached and the optimization hasn't converged yet.\n",
      "  warnings.warn(\n"
     ]
    },
    {
     "name": "stdout",
     "output_type": "stream",
     "text": [
      "Alpha: 0.1, Hidden Layer Size: (300,), Max Iter: 500, Accuracy: 68.45%\n",
      "Alpha: 0.1, Hidden Layer Size: (300,), Max Iter: 1000, Accuracy: 66.67%\n",
      "Alpha: 0.1, Hidden Layer Size: (300,), Max Iter: 1500, Accuracy: 66.07%\n"
     ]
    },
    {
     "name": "stderr",
     "output_type": "stream",
     "text": [
      "/Users/fmunting/opt/anaconda3/lib/python3.9/site-packages/sklearn/neural_network/_multilayer_perceptron.py:686: ConvergenceWarning: Stochastic Optimizer: Maximum iterations (250) reached and the optimization hasn't converged yet.\n",
      "  warnings.warn(\n"
     ]
    },
    {
     "name": "stdout",
     "output_type": "stream",
     "text": [
      "Alpha: 0.1, Hidden Layer Size: (300, 100), Max Iter: 250, Accuracy: 67.26%\n",
      "Alpha: 0.1, Hidden Layer Size: (300, 100), Max Iter: 500, Accuracy: 63.69%\n",
      "Alpha: 0.1, Hidden Layer Size: (300, 100), Max Iter: 1000, Accuracy: 58.33%\n",
      "Alpha: 0.1, Hidden Layer Size: (300, 100), Max Iter: 1500, Accuracy: 62.50%\n",
      "Alpha: 0.1, Hidden Layer Size: (300, 300), Max Iter: 250, Accuracy: 58.33%\n",
      "Alpha: 0.1, Hidden Layer Size: (300, 300), Max Iter: 500, Accuracy: 60.12%\n",
      "Alpha: 0.1, Hidden Layer Size: (300, 300), Max Iter: 1000, Accuracy: 61.31%\n",
      "Alpha: 0.1, Hidden Layer Size: (300, 300), Max Iter: 1500, Accuracy: 67.86%\n"
     ]
    },
    {
     "name": "stderr",
     "output_type": "stream",
     "text": [
      "/Users/fmunting/opt/anaconda3/lib/python3.9/site-packages/sklearn/neural_network/_multilayer_perceptron.py:686: ConvergenceWarning: Stochastic Optimizer: Maximum iterations (250) reached and the optimization hasn't converged yet.\n",
      "  warnings.warn(\n"
     ]
    },
    {
     "name": "stdout",
     "output_type": "stream",
     "text": [
      "Alpha: 0.05, Hidden Layer Size: (300,), Max Iter: 250, Accuracy: 67.26%\n"
     ]
    },
    {
     "name": "stderr",
     "output_type": "stream",
     "text": [
      "/Users/fmunting/opt/anaconda3/lib/python3.9/site-packages/sklearn/neural_network/_multilayer_perceptron.py:686: ConvergenceWarning: Stochastic Optimizer: Maximum iterations (500) reached and the optimization hasn't converged yet.\n",
      "  warnings.warn(\n"
     ]
    },
    {
     "name": "stdout",
     "output_type": "stream",
     "text": [
      "Alpha: 0.05, Hidden Layer Size: (300,), Max Iter: 500, Accuracy: 65.48%\n",
      "Alpha: 0.05, Hidden Layer Size: (300,), Max Iter: 1000, Accuracy: 61.31%\n",
      "Alpha: 0.05, Hidden Layer Size: (300,), Max Iter: 1500, Accuracy: 68.45%\n"
     ]
    },
    {
     "name": "stderr",
     "output_type": "stream",
     "text": [
      "/Users/fmunting/opt/anaconda3/lib/python3.9/site-packages/sklearn/neural_network/_multilayer_perceptron.py:686: ConvergenceWarning: Stochastic Optimizer: Maximum iterations (250) reached and the optimization hasn't converged yet.\n",
      "  warnings.warn(\n"
     ]
    },
    {
     "name": "stdout",
     "output_type": "stream",
     "text": [
      "Alpha: 0.05, Hidden Layer Size: (300, 100), Max Iter: 250, Accuracy: 63.10%\n",
      "Alpha: 0.05, Hidden Layer Size: (300, 100), Max Iter: 500, Accuracy: 70.83%\n",
      "Alpha: 0.05, Hidden Layer Size: (300, 100), Max Iter: 1000, Accuracy: 48.81%\n",
      "Alpha: 0.05, Hidden Layer Size: (300, 100), Max Iter: 1500, Accuracy: 64.88%\n",
      "Alpha: 0.05, Hidden Layer Size: (300, 300), Max Iter: 250, Accuracy: 62.50%\n",
      "Alpha: 0.05, Hidden Layer Size: (300, 300), Max Iter: 500, Accuracy: 35.71%\n",
      "Alpha: 0.05, Hidden Layer Size: (300, 300), Max Iter: 1000, Accuracy: 57.14%\n",
      "Alpha: 0.05, Hidden Layer Size: (300, 300), Max Iter: 1500, Accuracy: 51.79%\n"
     ]
    },
    {
     "name": "stderr",
     "output_type": "stream",
     "text": [
      "/Users/fmunting/opt/anaconda3/lib/python3.9/site-packages/sklearn/neural_network/_multilayer_perceptron.py:686: ConvergenceWarning: Stochastic Optimizer: Maximum iterations (250) reached and the optimization hasn't converged yet.\n",
      "  warnings.warn(\n"
     ]
    },
    {
     "name": "stdout",
     "output_type": "stream",
     "text": [
      "Alpha: 0.01, Hidden Layer Size: (300,), Max Iter: 250, Accuracy: 63.10%\n"
     ]
    },
    {
     "name": "stderr",
     "output_type": "stream",
     "text": [
      "/Users/fmunting/opt/anaconda3/lib/python3.9/site-packages/sklearn/neural_network/_multilayer_perceptron.py:686: ConvergenceWarning: Stochastic Optimizer: Maximum iterations (500) reached and the optimization hasn't converged yet.\n",
      "  warnings.warn(\n"
     ]
    },
    {
     "name": "stdout",
     "output_type": "stream",
     "text": [
      "Alpha: 0.01, Hidden Layer Size: (300,), Max Iter: 500, Accuracy: 69.64%\n",
      "Alpha: 0.01, Hidden Layer Size: (300,), Max Iter: 1000, Accuracy: 69.05%\n",
      "Alpha: 0.01, Hidden Layer Size: (300,), Max Iter: 1500, Accuracy: 68.45%\n"
     ]
    },
    {
     "name": "stderr",
     "output_type": "stream",
     "text": [
      "/Users/fmunting/opt/anaconda3/lib/python3.9/site-packages/sklearn/neural_network/_multilayer_perceptron.py:686: ConvergenceWarning: Stochastic Optimizer: Maximum iterations (250) reached and the optimization hasn't converged yet.\n",
      "  warnings.warn(\n"
     ]
    },
    {
     "name": "stdout",
     "output_type": "stream",
     "text": [
      "Alpha: 0.01, Hidden Layer Size: (300, 100), Max Iter: 250, Accuracy: 69.05%\n"
     ]
    },
    {
     "name": "stderr",
     "output_type": "stream",
     "text": [
      "/Users/fmunting/opt/anaconda3/lib/python3.9/site-packages/sklearn/neural_network/_multilayer_perceptron.py:686: ConvergenceWarning: Stochastic Optimizer: Maximum iterations (500) reached and the optimization hasn't converged yet.\n",
      "  warnings.warn(\n"
     ]
    },
    {
     "name": "stdout",
     "output_type": "stream",
     "text": [
      "Alpha: 0.01, Hidden Layer Size: (300, 100), Max Iter: 500, Accuracy: 67.86%\n",
      "Alpha: 0.01, Hidden Layer Size: (300, 100), Max Iter: 1000, Accuracy: 63.10%\n",
      "Alpha: 0.01, Hidden Layer Size: (300, 100), Max Iter: 1500, Accuracy: 70.24%\n",
      "Alpha: 0.01, Hidden Layer Size: (300, 300), Max Iter: 250, Accuracy: 69.05%\n",
      "Alpha: 0.01, Hidden Layer Size: (300, 300), Max Iter: 500, Accuracy: 38.10%\n",
      "Alpha: 0.01, Hidden Layer Size: (300, 300), Max Iter: 1000, Accuracy: 50.00%\n",
      "Alpha: 0.01, Hidden Layer Size: (300, 300), Max Iter: 1500, Accuracy: 64.88%\n"
     ]
    },
    {
     "name": "stderr",
     "output_type": "stream",
     "text": [
      "/Users/fmunting/opt/anaconda3/lib/python3.9/site-packages/sklearn/neural_network/_multilayer_perceptron.py:686: ConvergenceWarning: Stochastic Optimizer: Maximum iterations (250) reached and the optimization hasn't converged yet.\n",
      "  warnings.warn(\n"
     ]
    },
    {
     "name": "stdout",
     "output_type": "stream",
     "text": [
      "Alpha: 0.001, Hidden Layer Size: (300,), Max Iter: 250, Accuracy: 65.48%\n"
     ]
    },
    {
     "name": "stderr",
     "output_type": "stream",
     "text": [
      "/Users/fmunting/opt/anaconda3/lib/python3.9/site-packages/sklearn/neural_network/_multilayer_perceptron.py:686: ConvergenceWarning: Stochastic Optimizer: Maximum iterations (500) reached and the optimization hasn't converged yet.\n",
      "  warnings.warn(\n"
     ]
    },
    {
     "name": "stdout",
     "output_type": "stream",
     "text": [
      "Alpha: 0.001, Hidden Layer Size: (300,), Max Iter: 500, Accuracy: 70.24%\n",
      "Alpha: 0.001, Hidden Layer Size: (300,), Max Iter: 1000, Accuracy: 64.29%\n",
      "Alpha: 0.001, Hidden Layer Size: (300,), Max Iter: 1500, Accuracy: 66.07%\n",
      "Alpha: 0.001, Hidden Layer Size: (300, 100), Max Iter: 250, Accuracy: 63.69%\n"
     ]
    },
    {
     "name": "stderr",
     "output_type": "stream",
     "text": [
      "/Users/fmunting/opt/anaconda3/lib/python3.9/site-packages/sklearn/neural_network/_multilayer_perceptron.py:686: ConvergenceWarning: Stochastic Optimizer: Maximum iterations (500) reached and the optimization hasn't converged yet.\n",
      "  warnings.warn(\n"
     ]
    },
    {
     "name": "stdout",
     "output_type": "stream",
     "text": [
      "Alpha: 0.001, Hidden Layer Size: (300, 100), Max Iter: 500, Accuracy: 68.45%\n",
      "Alpha: 0.001, Hidden Layer Size: (300, 100), Max Iter: 1000, Accuracy: 67.86%\n",
      "Alpha: 0.001, Hidden Layer Size: (300, 100), Max Iter: 1500, Accuracy: 62.50%\n",
      "Alpha: 0.001, Hidden Layer Size: (300, 300), Max Iter: 250, Accuracy: 50.60%\n",
      "Alpha: 0.001, Hidden Layer Size: (300, 300), Max Iter: 500, Accuracy: 57.74%\n",
      "Alpha: 0.001, Hidden Layer Size: (300, 300), Max Iter: 1000, Accuracy: 50.60%\n",
      "Alpha: 0.001, Hidden Layer Size: (300, 300), Max Iter: 1500, Accuracy: 64.88%\n"
     ]
    }
   ],
   "source": [
    "#DataFlair - Split the dataset\n",
    "x_train,x_test,y_train,y_test=load_data(test_size=0.25)\n",
    "\n",
    "#DataFlair - Get the shape of the training and testing datasets\n",
    "print((x_train.shape[0], x_test.shape[0]))\n",
    "\n",
    "#DataFlair - Get the number of features extracted\n",
    "print(f'Features extracted: {x_train.shape[1]}')\n",
    "\n",
    "alphas = [0.1, 0.05, 0.01, 0.001]\n",
    "hidden_layer_size = [(300,), (300, 100), (300, 300)]\n",
    "max_iter = [250, 500, 1000, 1500]\n",
    "\n",
    "\n",
    "for i in alphas:\n",
    "    for j in hidden_layer_size:\n",
    "        for iter in max_iter:\n",
    "#DataFlair - Initialize the Multi Layer Perceptron Classifier\n",
    "            model=MLPClassifier(alpha=i, batch_size=256, epsilon=1e-08, hidden_layer_sizes=j, learning_rate='adaptive', max_iter=iter)\n",
    "\n",
    "#DataFlair - Train the model\n",
    "            model.fit(x_train,y_train)\n",
    "\n",
    "#DataFlair - Predict for the test set\n",
    "            y_pred=model.predict(x_test)\n",
    "\n",
    "#DataFlair - Calculate the accuracy of our model\n",
    "            accuracy=accuracy_score(y_true=y_test, y_pred=y_pred)\n",
    "\n",
    "#DataFlair - Print the accuracy\n",
    "            print(f\"Alpha: {i}, Hidden Layer Size: {j}, Max Iter: {iter}, Accuracy: {accuracy*100:.2f}%\")\n",
    "\n"
   ]
  },
  {
   "cell_type": "code",
   "execution_count": 196,
   "metadata": {},
   "outputs": [
    {
     "name": "stderr",
     "output_type": "stream",
     "text": [
      "/Users/fmunting/opt/anaconda3/lib/python3.9/site-packages/librosa/core/pitch.py:101: UserWarning: Trying to estimate tuning from empty frequency set.\n",
      "  return pitch_tuning(\n"
     ]
    }
   ],
   "source": [
    "speech_list = []\n",
    "speech_names = []\n",
    "\n",
    "for file in glob.glob(\"audio-files/*.wav\"):\n",
    "    file_name=os.path.basename(file)\n",
    "    speech_names.append(file_name)\n",
    "    feature=extract_feature(file, mfcc=True, chroma=True, mel=True)\n",
    "    speech_list.append(feature)"
   ]
  },
  {
   "cell_type": "code",
   "execution_count": 197,
   "metadata": {},
   "outputs": [],
   "source": [
    "#model.predict(speech_list)"
   ]
  },
  {
   "cell_type": "code",
   "execution_count": 198,
   "metadata": {},
   "outputs": [],
   "source": [
    "def final_load_data():\n",
    "    x,y=[],[]\n",
    "    for file in glob.glob(\"audio-files/ravdess/Actor_*/*.wav\"):\n",
    "        file_name=os.path.basename(file)\n",
    "        emotion=emotions[file_name.split(\"-\")[2]]\n",
    "        if emotion not in observed_emotions:\n",
    "            continue\n",
    "        feature=extract_feature(file, mfcc=True, chroma=True, mel=True)\n",
    "        x.append(feature)\n",
    "        y.append(emotion)\n",
    "    return x, y"
   ]
  },
  {
   "cell_type": "code",
   "execution_count": 199,
   "metadata": {},
   "outputs": [],
   "source": [
    "#DataFlair - Split the dataset\n",
    "x, y =final_load_data()\n",
    "\n",
    "#DataFlair - Initialize the Multi Layer Perceptron Classifier\n",
    "final_model=MLPClassifier(alpha=0.01, batch_size=256, epsilon=1e-08, hidden_layer_sizes=(300,100), learning_rate='adaptive', max_iter=1500)\n",
    "\n",
    "#DataFlair - Train the model\n",
    "final_model.fit(x,y)\n",
    "\n",
    "speech_predictions = final_model.predict(speech_list)"
   ]
  },
  {
   "cell_type": "code",
   "execution_count": 200,
   "metadata": {},
   "outputs": [
    {
     "data": {
      "text/plain": [
       "538"
      ]
     },
     "execution_count": 200,
     "metadata": {},
     "output_type": "execute_result"
    }
   ],
   "source": [
    "len(speech_predictions)"
   ]
  },
  {
   "cell_type": "code",
   "execution_count": 201,
   "metadata": {},
   "outputs": [],
   "source": [
    "df = pd.read_csv(\"data-files/transcripts_w_lies.csv\")"
   ]
  },
  {
   "cell_type": "code",
   "execution_count": 202,
   "metadata": {},
   "outputs": [],
   "source": [
    "pred_df = pd.DataFrame({\"names\": speech_names, \"emotion\": speech_predictions})"
   ]
  },
  {
   "cell_type": "code",
   "execution_count": 203,
   "metadata": {},
   "outputs": [
    {
     "data": {
      "text/html": [
       "<div>\n",
       "<style scoped>\n",
       "    .dataframe tbody tr th:only-of-type {\n",
       "        vertical-align: middle;\n",
       "    }\n",
       "\n",
       "    .dataframe tbody tr th {\n",
       "        vertical-align: top;\n",
       "    }\n",
       "\n",
       "    .dataframe thead th {\n",
       "        text-align: right;\n",
       "    }\n",
       "</style>\n",
       "<table border=\"1\" class=\"dataframe\">\n",
       "  <thead>\n",
       "    <tr style=\"text-align: right;\">\n",
       "      <th></th>\n",
       "      <th>names</th>\n",
       "      <th>emotion</th>\n",
       "    </tr>\n",
       "  </thead>\n",
       "  <tbody>\n",
       "    <tr>\n",
       "      <th>0</th>\n",
       "      <td>Donald Trump speaks at the RNC： FULL SPEECH_ch...</td>\n",
       "      <td>fearful</td>\n",
       "    </tr>\n",
       "    <tr>\n",
       "      <th>1</th>\n",
       "      <td>Donald Trump speaks at the RNC： FULL SPEECH_ch...</td>\n",
       "      <td>fearful</td>\n",
       "    </tr>\n",
       "    <tr>\n",
       "      <th>2</th>\n",
       "      <td>Donald Trump speaks at the RNC： FULL SPEECH_ch...</td>\n",
       "      <td>surprised</td>\n",
       "    </tr>\n",
       "    <tr>\n",
       "      <th>3</th>\n",
       "      <td>Donald Trump speaks at the RNC： FULL SPEECH_ch...</td>\n",
       "      <td>disgust</td>\n",
       "    </tr>\n",
       "    <tr>\n",
       "      <th>4</th>\n",
       "      <td>Donald Trump speaks at the RNC： FULL SPEECH_ch...</td>\n",
       "      <td>disgust</td>\n",
       "    </tr>\n",
       "  </tbody>\n",
       "</table>\n",
       "</div>"
      ],
      "text/plain": [
       "                                               names    emotion\n",
       "0  Donald Trump speaks at the RNC： FULL SPEECH_ch...    fearful\n",
       "1  Donald Trump speaks at the RNC： FULL SPEECH_ch...    fearful\n",
       "2  Donald Trump speaks at the RNC： FULL SPEECH_ch...  surprised\n",
       "3  Donald Trump speaks at the RNC： FULL SPEECH_ch...    disgust\n",
       "4  Donald Trump speaks at the RNC： FULL SPEECH_ch...    disgust"
      ]
     },
     "execution_count": 203,
     "metadata": {},
     "output_type": "execute_result"
    }
   ],
   "source": [
    "pred_df.head()"
   ]
  },
  {
   "cell_type": "code",
   "execution_count": 204,
   "metadata": {},
   "outputs": [],
   "source": [
    "df[\"names\"] = df[\"Chunk Filename\"].str.replace(\"/Users/milanvaghani/Desktop/Unstructed Machine Learning/\", \"\")"
   ]
  },
  {
   "cell_type": "code",
   "execution_count": 205,
   "metadata": {},
   "outputs": [],
   "source": [
    "df_ordered = df.sort_values(by = \"names\")\n",
    "pred_df_ordered = pred_df.sort_values(by = \"names\")\n",
    "emotion_ordered = pred_df_ordered[\"emotion\"]\n",
    "df_ordered[\"emotion\"] = emotion_ordered"
   ]
  },
  {
   "cell_type": "code",
   "execution_count": 206,
   "metadata": {},
   "outputs": [],
   "source": [
    "final_df = df_ordered.drop(columns = [\"Unnamed: 0\", \"YouTube URL\", \"Chunk Filename\"])"
   ]
  },
  {
   "cell_type": "code",
   "execution_count": 207,
   "metadata": {},
   "outputs": [],
   "source": [
    "speech_number = []\n",
    "\n",
    "for line in final_df[\"names\"]:\n",
    "    if line.startswith(\"Audio Files/Donald Trump speaks\"):\n",
    "        speech_number.append(3)\n",
    "    elif line.startswith(\"VP Kamala Harris full speech\"):\n",
    "        speech_number.append(1)\n",
    "    elif line.startswith(\"Audio Files/Donald Trump full\"):\n",
    "        speech_number.append(2)\n",
    "    else:\n",
    "        speech_number.append(4)\n",
    "\n",
    "final_df[\"speech_number\"] = speech_number"
   ]
  },
  {
   "cell_type": "code",
   "execution_count": 208,
   "metadata": {},
   "outputs": [
    {
     "data": {
      "text/plain": [
       "<Axes: xlabel='count', ylabel='Count'>"
      ]
     },
     "execution_count": 208,
     "metadata": {},
     "output_type": "execute_result"
    },
    {
     "data": {
      "image/png": "[encoded data removed]",
      "text/plain": [
       "<Figure size 640x480 with 1 Axes>"
      ]
     },
     "metadata": {},
     "output_type": "display_data"
    }
   ],
   "source": [
    "import seaborn as sns\n",
    "\n",
    "sns.histplot(final_df.groupby([\"speech_number\", \"lie\"])[\"emotion\"].value_counts())"
   ]
  },
  {
   "cell_type": "code",
   "execution_count": 212,
   "metadata": {},
   "outputs": [
    {
     "name": "stderr",
     "output_type": "stream",
     "text": [
      "/var/folders/gs/rvxrkqns1ws3722g5ty7jpqw0000gn/T/ipykernel_15042/4008278264.py:12: FutureWarning: \n",
      "\n",
      "The `ci` parameter is deprecated. Use `errorbar=None` for the same effect.\n",
      "\n",
      "  g = sns.catplot(\n"
     ]
    },
    {
     "data": {
      "image/png": "[encoded data removed]",
      "text/plain": [
       "<Figure size 2004.87x400 with 4 Axes>"
      ]
     },
     "metadata": {},
     "output_type": "display_data"
    }
   ],
   "source": [
    "import pandas as pd\n",
    "import seaborn as sns\n",
    "import matplotlib.pyplot as plt\n",
    "\n",
    "# Step 1: Calculate the percentage of emotions within each speech and lie/truth\n",
    "emotion_counts = final_df.groupby([\"speech_number\", \"lie\", \"emotion\"]).size().reset_index(name=\"counts\")\n",
    "\n",
    "# Step 2: Calculate the percentage of each emotion within each speech and lie/truth\n",
    "emotion_counts[\"percentage\"] = emotion_counts.groupby([\"speech_number\", \"lie\"])[\"counts\"].transform(lambda x: 100 * x / x.sum())\n",
    "\n",
    "# Step 3: Plot using FacetGrid to split by speech_number\n",
    "g = sns.catplot(\n",
    "    data=emotion_counts,\n",
    "    x=\"emotion\", y=\"percentage\", hue=\"lie\", col=\"speech_number\",\n",
    "    kind=\"bar\", ci=None, height=4, aspect=1.2\n",
    ")\n",
    "\n",
    "# Manually set titles for each subplot\n",
    "custom_titles = [\"Harris DNC\", \"Trump RNC\", \"Harris Rally\", \"Trump Rally\"]\n",
    "for ax, title in zip(g.axes.flat, custom_titles):\n",
    "    ax.set_title(title)\n",
    "g.set_axis_labels(\"Emotion\", \"Percentage\")\n",
    "g.set_xticklabels(rotation=45)\n",
    "plt.tight_layout()\n",
    "plt.show()\n"
   ]
  }
 ],
 "metadata": {
  "kernelspec": {
   "display_name": "Python 3.9.19 ('base')",
   "language": "python",
   "name": "python3"
  },
  "language_info": {
   "codemirror_mode": {
    "name": "ipython",
    "version": 3
   },
   "file_extension": ".py",
   "mimetype": "text/x-python",
   "name": "python",
   "nbconvert_exporter": "python",
   "pygments_lexer": "ipython3",
   "version": "3.9.19"
  },
  "orig_nbformat": 4,
  "vscode": {
   "interpreter": {
    "hash": "f3c82d000bb8a1750346fb87c49af9771012dc5d265e5e793ee442432926adf7"
   }
  }
 },
 "nbformat": 4,
 "nbformat_minor": 2
}
